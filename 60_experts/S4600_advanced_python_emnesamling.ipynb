{
 "cells": [
  {
   "cell_type": "markdown",
   "metadata": {},
   "source": [
    "# Yderligere materiale, tips og tricks"
   ]
  },
  {
   "cell_type": "markdown",
   "metadata": {},
   "source": [
    "Du har arbejdet med alle S1- og S2-emnerne, og nu vil du gerne lære mere om programmering og Python?   \n",
    "Så er denne fil noget for dig. Her finder du en oversigt over yderligere materiale. Denne notebook har tre afsnit:  \n",
    "\n",
    "1. Hyppigt anvendte elementer og begreber i Python\n",
    "2. Avancerede koncepter for avancerede programmører\n",
    "3. Tips & Tricks\n",
    "\n",
    "Du finder i dette dokument ikke altid konkrete opgaver, som du skal løse, men typisk kun en overskrift, et lille kodeeksempel og nogle videre links.    \n",
    "De fleste af emnerne bygger ikke på hinanden.\n",
    "\n",
    "Hovedformålet med dette dokument er at du har hørt om de forskellige termer og koncepter og derfor er i stand til at håndtere dem mere detaljeret, når du rent faktisk har brug for dem til et af dine projekter.\n",
    "\n",
    "Som altid er du velkommen til at spørge din lærer, fx hvis du er i tvivl om en emnes betydning for dig eller når du går i stå på et tidspunkt.\n",
    "\n",
    "### Kopier denne fil til din løsnings-repository, så du kan lege med kodeeksemplerne der."
   ]
  },
  {
   "cell_type": "markdown",
   "metadata": {},
   "source": [
    "## 1. Hyppigt anvendte elementer og begreber i Python"
   ]
  },
  {
   "cell_type": "markdown",
   "metadata": {},
   "source": [
    "### Comprehension"
   ]
  },
  {
   "cell_type": "markdown",
   "metadata": {},
   "source": [
    "En populær og elegant måde at definere en liste eller andre objekter på.   \n",
    "     \n",
    "Kort forklaring: https://www.w3schools.com/python/python_lists_comprehension.asp   \n",
    "Komplet forklaring: https://realpython.com/list-comprehension-python/   \n",
    "God forklaring: https://towardsdatascience.com/a-guide-to-python-comprehensions-4d16af68c97e\n",
    "\n",
    "Hvis du ikke husker hvad en dictionary/list/set er, så genopfrisk din viden her:\n",
    "- https://www.w3schools.com/python/python_dictionaries.asp\n",
    "- https://www.w3schools.com/python/python_lists.asp\n",
    "- https://www.w3schools.com/python/python_sets.asp"
   ]
  },
  {
   "cell_type": "code",
   "execution_count": 58,
   "metadata": {
    "ExecuteTime": {
     "end_time": "2023-09-19T12:57:04.164384800Z",
     "start_time": "2023-09-19T12:57:04.018385200Z"
    }
   },
   "outputs": [
    {
     "name": "stdout",
     "output_type": "stream",
     "text": [
      "dictionary_comprehension = {0: 0, 1: 1, 2: 4, 3: 9, 4: 16, 5: 25, 6: 36, 7: 49, 8: 64, 9: 81}\n",
      "list_comprehension = [0, 1, 4, 9, 16, 25, 36, 49, 64, 81]\n",
      "set_comprehension = {0, 1, 2}\n",
      "generator_comprehension = <generator object <genexpr> at 0x000001D1BB0B5F50>\n"
     ]
    }
   ],
   "source": [
    "dictionary_comprehension = {i: i * i for i in range(10)}\n",
    "list_comprehension = [i * i for i in range(10)]\n",
    "set_comprehension = {i%3 for i in range(10)}\n",
    "generator_comprehension = (2 * i + 5 for i in range(10))  # see explanation for generators in this document\n",
    "print(f'{dictionary_comprehension = }')\n",
    "print(f'{list_comprehension = }')\n",
    "print(f'{set_comprehension = }')\n",
    "print(f'{generator_comprehension = }')"
   ]
  },
  {
   "cell_type": "code",
   "execution_count": 59,
   "outputs": [],
   "source": [
    "# Opgave:\n",
    "# Skab denne liste med comprehension: [10, 15, 20, 25, 30, 35]\n",
    "# Skriv din kode her"
   ],
   "metadata": {
    "collapsed": false,
    "ExecuteTime": {
     "end_time": "2023-09-19T12:57:04.258383400Z",
     "start_time": "2023-09-19T12:57:04.026385600Z"
    }
   }
  },
  {
   "cell_type": "code",
   "execution_count": 60,
   "outputs": [],
   "source": [
    "# Opgave:\n",
    "# Skab denne liste med comprehension: [0, 1, 2, 3, 40, 41, 42, 43, 44, 45]\n",
    "# Skriv din kode her"
   ],
   "metadata": {
    "collapsed": false,
    "ExecuteTime": {
     "end_time": "2023-09-19T12:57:04.272383800Z",
     "start_time": "2023-09-19T12:57:04.044386100Z"
    }
   }
  },
  {
   "cell_type": "code",
   "execution_count": 61,
   "outputs": [],
   "source": [
    "# Opgave:\n",
    "# Skab denne dictionary med comprehension: {3: 33, 4: 44, 5: 55, 6: 66}\n",
    "# Skriv din kode her"
   ],
   "metadata": {
    "collapsed": false,
    "ExecuteTime": {
     "end_time": "2023-09-19T12:57:04.275383400Z",
     "start_time": "2023-09-19T12:57:04.059385500Z"
    }
   }
  },
  {
   "cell_type": "markdown",
   "metadata": {},
   "source": [
    "### Magic Methods (Dunder Methods)"
   ]
  },
  {
   "cell_type": "markdown",
   "metadata": {},
   "source": [
    "Magiske metoder i Python er de specielle metoder, der starter og slutter med dobbelt understregning.    \n",
    "De er ikke beregnet til at blive kaldt direkte af dig, men påkaldet sker internt fra klassen ved en bestemt handling.   \n",
    "Du kan med fordel selv tilpasse dem.\n",
    "\n",
    "Find ud af hvad magic methods er og får en overblik om hvilke findes:   \n",
    "https://www.tutorialsteacher.com/python/magic-methods-in-python   "
   ]
  },
  {
   "cell_type": "code",
   "execution_count": 62,
   "outputs": [],
   "source": [
    "# Opgave:\n",
    "# Tilføj en magisk funktion til klassen Dog så \"huge_dog > tiny_dog\" interpreteres på en fornuftig måde.\n",
    "\n",
    "class Dog:\n",
    "    def __init__(self, size):\n",
    "        self.size = size\n",
    "        \n",
    "huge_dog = Dog(80)\n",
    "tiny_dog = Dog(25)\n",
    "\n",
    "# Uncomment this in order to test your solution!\n",
    "# if huge_dog > tiny_dog:\n",
    "#     print(\"You solved the exercise :)\")"
   ],
   "metadata": {
    "collapsed": false,
    "ExecuteTime": {
     "end_time": "2023-09-19T12:57:04.286384Z",
     "start_time": "2023-09-19T12:57:04.075384500Z"
    }
   }
  },
  {
   "cell_type": "markdown",
   "metadata": {},
   "source": [
    "### Unpacking"
   ]
  },
  {
   "cell_type": "markdown",
   "metadata": {},
   "source": [
    "Super vigtig blandt andet for parameter unpacking (*args, **kwargs)      \n",
    "     \n",
    "God forklaring for parameter unpacking: https://realpython.com/python-kwargs-and-args/    \n",
    "God forklaring for alle måder man kan bruge unpacking på: https://treyhunner.com/2018/10/asterisks-in-python-what-they-are-and-how-to-use-them/"
   ]
  },
  {
   "cell_type": "code",
   "execution_count": 63,
   "metadata": {
    "ExecuteTime": {
     "end_time": "2023-09-19T12:57:04.289383500Z",
     "start_time": "2023-09-19T12:57:04.089384700Z"
    }
   },
   "outputs": [
    {
     "name": "stdout",
     "output_type": "stream",
     "text": [
      "a=1 b=[2, 3, 4, 5] c=6 d=7 e=8\n",
      "<class 'list'>\n"
     ]
    }
   ],
   "source": [
    "a, *b, c, d, e = (1, 2, 3, 4, 5, 6, 7, 8)  # *-Operator for unpacking (works for tuples and lists)\n",
    "print(f'{a=} {b=} {c=} {d=} {e=}')\n",
    "print(type(b))"
   ]
  },
  {
   "cell_type": "code",
   "execution_count": 64,
   "outputs": [
    {
     "data": {
      "text/plain": "(1, 2, 3, 4, 5, 6, 7, 8)"
     },
     "execution_count": 64,
     "metadata": {},
     "output_type": "execute_result"
    }
   ],
   "source": [
    "# Opgave:\n",
    "# Ændr programmet, så variablen result kun indeholder værdierne 4, 5, 6.\n",
    "def some_function():\n",
    "    return 1, 2, 3, 4, 5, 6, 7, 8\n",
    "\n",
    "result = some_function()\n",
    "result"
   ],
   "metadata": {
    "collapsed": false,
    "ExecuteTime": {
     "end_time": "2023-09-19T12:57:04.292383400Z",
     "start_time": "2023-09-19T12:57:04.105384800Z"
    }
   }
  },
  {
   "cell_type": "markdown",
   "metadata": {},
   "source": [
    "### Tuple Declaration, Strings and Tuples as Iterators "
   ]
  },
  {
   "cell_type": "markdown",
   "source": [
    "Hvis du ikke husker hvad en tuple er, så genopfrisk din viden her:\n",
    "- https://www.w3schools.com/python/python_tuples.asp"
   ],
   "metadata": {
    "collapsed": false
   }
  },
  {
   "cell_type": "code",
   "execution_count": 65,
   "metadata": {
    "ExecuteTime": {
     "end_time": "2023-09-19T12:57:04.295383500Z",
     "start_time": "2023-09-19T12:57:04.121384500Z"
    }
   },
   "outputs": [
    {
     "name": "stdout",
     "output_type": "stream",
     "text": [
      "String a\n",
      "String b\n",
      "String c\n",
      "Tuple abc\n"
     ]
    }
   ],
   "source": [
    "eksempel_string = (\"abc\")   # string\n",
    "eksempel_tuple = (\"abc\",)   # tuple  (kommaet er afgørende!)\n",
    "for s in eksempel_string:\n",
    "    print(\"String\", s)\n",
    "for t in eksempel_tuple:\n",
    "    print(\"Tuple\", t)"
   ]
  },
  {
   "cell_type": "code",
   "execution_count": 66,
   "outputs": [],
   "source": [
    "# Opgave\n",
    "# Bare leg med ovenstående eksempelet"
   ],
   "metadata": {
    "collapsed": false,
    "ExecuteTime": {
     "end_time": "2023-09-19T12:57:04.336636100Z",
     "start_time": "2023-09-19T12:57:04.137385100Z"
    }
   }
  },
  {
   "cell_type": "markdown",
   "metadata": {},
   "source": [
    "### For Loop with 2 or more Iterators"
   ]
  },
  {
   "cell_type": "markdown",
   "metadata": {},
   "source": [
    "Kort forklaring: https://www.w3schools.com/python/ref_func_zip.asp   \n",
    "Komplet forklaring: https://realpython.com/python-zip-function/"
   ]
  },
  {
   "cell_type": "code",
   "execution_count": 67,
   "metadata": {
    "ExecuteTime": {
     "end_time": "2023-09-19T12:57:04.349636700Z",
     "start_time": "2023-09-19T12:57:04.154384400Z"
    }
   },
   "outputs": [
    {
     "name": "stdout",
     "output_type": "stream",
     "text": [
      "4 a One           5 b Two           6 c Three           "
     ]
    }
   ],
   "source": [
    "for i, j, k in zip(range(4,23), \"abc\", [\"One\", \"Two\", \"Three\", \"Four\"]):\n",
    "    print(i, j, k, end=\"           \")"
   ]
  },
  {
   "cell_type": "code",
   "execution_count": 68,
   "outputs": [
    {
     "ename": "SyntaxError",
     "evalue": "invalid syntax (2064953664.py, line 2)",
     "output_type": "error",
     "traceback": [
      "\u001B[1;36m  Cell \u001B[1;32mIn [68], line 2\u001B[1;36m\u001B[0m\n\u001B[1;33m    hier weiter\u001B[0m\n\u001B[1;37m         ^\u001B[0m\n\u001B[1;31mSyntaxError\u001B[0m\u001B[1;31m:\u001B[0m invalid syntax\n"
     ]
    }
   ],
   "source": [
    "# Opgave\n",
    "hier weiter"
   ],
   "metadata": {
    "collapsed": false,
    "ExecuteTime": {
     "end_time": "2023-09-19T12:57:04.360636600Z",
     "start_time": "2023-09-19T12:57:04.170384500Z"
    }
   }
  },
  {
   "cell_type": "markdown",
   "metadata": {},
   "source": [
    "###  Lambda Functions (Example: sort class objects)"
   ]
  },
  {
   "cell_type": "markdown",
   "metadata": {},
   "source": [
    "Praktisk når du skal definere en meget kort funktion, som du bruger bare en gang.   \n",
    "Så kan du gør det indenfor den kodelinje, hvor du bruger funktionen.\n",
    "\n",
    "Kan benyttes hvis der forventes et funktionsobjekt (dvs. kun funktionsnavnet uden parenteser og uden parametre)    \n",
    "på et sted i programkoden, men man ønsker også at overføre funktionsparametre sammen med funktionsobjektet.    \n",
    "Eksempel: command-parameter af en tkinter-button.\n",
    "\n",
    "Kort forklaring: https://www.w3schools.com/python/python_lambda.asp    \n",
    "Komplet forklaring: https://realpython.com/python-lambda/"
   ]
  },
  {
   "cell_type": "code",
   "execution_count": null,
   "metadata": {
    "ExecuteTime": {
     "start_time": "2023-09-19T12:57:04.186385Z"
    }
   },
   "outputs": [],
   "source": [
    "class Dummy:\n",
    "    \n",
    "    def __init__(self, a, b):\n",
    "        self.a = a\n",
    "        self.b = b\n",
    "        \n",
    "    def __repr__(self):\n",
    "        return f\"{self.a=}  {self.b=}\"\n",
    "        \n",
    "dummy1 = Dummy(9, 3)\n",
    "dummy2 = Dummy(7, 5)\n",
    "dummies = [dummy1, dummy2]\n",
    "print(\"before\", dummies)\n",
    "dummies.sort(key=lambda x: x.a, reverse=False)\n",
    "print(\"after \", dummies)"
   ]
  },
  {
   "cell_type": "markdown",
   "metadata": {},
   "source": [
    "### Import (avanceret)"
   ]
  },
  {
   "cell_type": "markdown",
   "metadata": {},
   "source": [
    "Python import: Advanced Techniques and Tips https://realpython.com/python-import/"
   ]
  },
  {
   "cell_type": "markdown",
   "metadata": {},
   "source": [
    "### Inline If (Ternary Operator)"
   ]
  },
  {
   "cell_type": "markdown",
   "metadata": {},
   "source": [
    "Tester en betingelse i en enkelt linje, hvilket gør koden mere kompakt.  \n",
    "Meget praktisk i kombination med (list) comprehension.\n",
    "     \n",
    "Forklaring: https://www.geeksforgeeks.org/ternary-operator-in-python/"
   ]
  },
  {
   "cell_type": "code",
   "execution_count": null,
   "metadata": {
    "ExecuteTime": {
     "start_time": "2023-09-19T12:57:04.188384300Z"
    }
   },
   "outputs": [],
   "source": [
    "x = \"a\" if 3 > 8 else \"b\"\n",
    "x"
   ]
  },
  {
   "cell_type": "code",
   "execution_count": null,
   "metadata": {
    "ExecuteTime": {
     "start_time": "2023-09-19T12:57:04.189384500Z"
    }
   },
   "outputs": [],
   "source": [
    "list_comprehension_with_2_if = [i * i if i > 5 else i for i in range(10) if i%2 == 0]\n",
    "list_comprehension_with_2_if"
   ]
  },
  {
   "cell_type": "markdown",
   "metadata": {},
   "source": [
    "## 2. Avancerede koncepter for avancerede programmører"
   ]
  },
  {
   "cell_type": "markdown",
   "metadata": {},
   "source": [
    "### Generators"
   ]
  },
  {
   "cell_type": "markdown",
   "metadata": {},
   "source": [
    "En generatorfunktion er en særlig type funktion, der returnerer en doven iterator.    \n",
    "En iterator er et objekt, som du kan gennemløbe i en løkke, fx en liste.    \n",
    "En doven iterator gemmer kun sit senest genererede element i hukommelsen.     \n",
    "Det kan være meget nyttig, når man har mange elementer eller når elementerne er store.\n",
    "\n",
    "Super gode forklaringer: https://www.youtube.com/watch?v=tmeKsb2Fras   \n",
    "Forklaringerne er dog hurtigt og på et meget højt niveau. Brug dine pause og spol tilbage knapper meget!     \n",
    "Dette gælder også for alle andre videoer fra denne fantastiske YouTube-kanal.   \n",
    "   \n",
    "Udførlig forklaring: https://realpython.com/introduction-to-python-generators/"
   ]
  },
  {
   "cell_type": "code",
   "execution_count": null,
   "metadata": {
    "ExecuteTime": {
     "start_time": "2023-09-19T12:57:04.191384800Z"
    }
   },
   "outputs": [],
   "source": [
    "def infinite_sequence():\n",
    "    num = 0\n",
    "    while True:\n",
    "        yield num\n",
    "        num += 1\n",
    "        \n",
    "gen = infinite_sequence()\n",
    "print(next(gen))\n",
    "print(next(gen))\n",
    "for some_iterator in [3, 12, 4]:\n",
    "    print(\"in a for loop\", next(gen))"
   ]
  },
  {
   "cell_type": "markdown",
   "metadata": {},
   "source": [
    "### Asynchronous programming"
   ]
  },
  {
   "cell_type": "markdown",
   "metadata": {},
   "source": [
    "Asynkron programmering betyder, at man foretager anmodninger (requests) og ikke blokerer for at vente på, at de er færdige.    \n",
    "    \n",
    "God introduktion til asyncio: https://www.youtube.com/watch?v=ftmdDlwMwwQ    \n",
    "(Forklaringerne er meget gode men super hurtigt. Brug dine pause og spol tilbage knapper meget!)   \n",
    "God forklaring: https://superfastpython.com/python-asynchronous-programming/    \n",
    "Udførlig forklaring: https://realpython.com/async-io-python/\n"
   ]
  },
  {
   "cell_type": "markdown",
   "metadata": {},
   "source": [
    "### Multiprocessing"
   ]
  },
  {
   "cell_type": "markdown",
   "metadata": {},
   "source": [
    "Multiprocessing giver mulighed for at udnytte flere processorer på en given maskine      \n",
    "fuldt ud ved at omgå den \"Global Interpreter Lock\".   \n",
    "\n",
    "Introduction to multiprocessing: https://www.youtube.com/watch?v=X7vBbelRXn0&t=356s    \n",
    "(Forklaringerne er meget gode men super hurtigt. Brug dine pause og spol tilbage knapper meget!)   \n",
    "Threading vs multiprocessing in python: https://www.youtube.com/watch?v=AZnGRKFUU0c    \n",
    "God og komplet forklaring: https://superfastpython.com/multiprocessing-in-python/    \n",
    "Oficiel dokumentation: https://docs.python.org/3/library/multiprocessing.html"
   ]
  },
  {
   "cell_type": "markdown",
   "metadata": {},
   "source": [
    "## 3. Tips & Tricks"
   ]
  },
  {
   "cell_type": "markdown",
   "source": [
    "### Working Directory"
   ],
   "metadata": {
    "collapsed": false
   }
  },
  {
   "cell_type": "code",
   "execution_count": null,
   "outputs": [],
   "source": [
    "import os\n",
    "current_dir = os.getcwd()  # What is the program's current directory?\n",
    "current_dir"
   ],
   "metadata": {
    "collapsed": false,
    "ExecuteTime": {
     "start_time": "2023-09-19T12:57:04.192384200Z"
    }
   }
  },
  {
   "cell_type": "markdown",
   "source": [
    "### Display image"
   ],
   "metadata": {
    "collapsed": false
   }
  },
  {
   "cell_type": "code",
   "execution_count": null,
   "outputs": [],
   "source": [
    "from IPython.display import Image\n",
    "Image(filename=\"../10_gui/images/gui_2010.png\")"
   ],
   "metadata": {
    "collapsed": false,
    "ExecuteTime": {
     "start_time": "2023-09-19T12:57:04.193384Z"
    }
   }
  },
  {
   "cell_type": "markdown",
   "metadata": {},
   "source": [
    "### Time"
   ]
  },
  {
   "cell_type": "markdown",
   "metadata": {},
   "source": [
    "En eksempel hvordan man kan arbejde med tid i python.     \n",
    "    \n",
    "Kort forklaring: https://www.w3schools.com/python/python_datetime.asp   \n",
    "Officiel dokumentation: https://docs.python.org/3/library/datetime.html   "
   ]
  },
  {
   "cell_type": "code",
   "execution_count": null,
   "metadata": {
    "ExecuteTime": {
     "start_time": "2023-09-19T12:57:04.194384700Z"
    }
   },
   "outputs": [],
   "source": [
    "import time\n",
    "from datetime import datetime\n",
    "\n",
    "def time_stub():\n",
    "    now = time.time()\n",
    "    print(\"seconds since 01.01.1970: \", now)\n",
    "    readable = datetime.fromtimestamp(now, tz=None)\n",
    "    print(\"transform into readable format: \", readable)\n",
    "    \n",
    "time_stub()"
   ]
  },
  {
   "cell_type": "markdown",
   "metadata": {},
   "source": [
    "### Profiling (performance optimization, runtime analysis)"
   ]
  },
  {
   "cell_type": "markdown",
   "metadata": {},
   "source": [
    "Kort forklaring: https://www.machinelearningplus.com/python/cprofile-how-to-profile-your-python-code/   \n",
    "Officiel dokumentation: https://docs.python.org/3/library/profile.html"
   ]
  },
  {
   "cell_type": "code",
   "execution_count": null,
   "metadata": {
    "ExecuteTime": {
     "start_time": "2023-09-19T12:57:04.194384700Z"
    }
   },
   "outputs": [],
   "source": [
    "import cProfile\n",
    "import pstats\n",
    "import math\n",
    "import numpy as np\n",
    "\n",
    "def test_np():\n",
    "    for i in range(88888):\n",
    "        x = np.sqrt(i)*np.sin(i)\n",
    "        \n",
    "def test_math():\n",
    "    for i in range(99999):\n",
    "        x = math.sqrt(i)*math.sin(i)\n",
    "\n",
    "def test():\n",
    "    test_np()\n",
    "    test_math()\n",
    "\n",
    "\n",
    "with cProfile.Profile() as pr:\n",
    "    test()\n",
    "stats = pstats.Stats(pr)\n",
    "stats.sort_stats(pstats.SortKey.TIME)\n",
    "stats.print_stats()\n",
    "# stats.dump_stats(filename='needs_profiling.prof')"
   ]
  },
  {
   "cell_type": "markdown",
   "metadata": {
    "tags": []
   },
   "source": [
    "###  JSON"
   ]
  },
  {
   "cell_type": "markdown",
   "metadata": {
    "tags": []
   },
   "source": [
    "Hvordan læser og redigerer man JSON-filer?   \n",
    "    \n",
    "Kort forklaring: https://www.w3schools.com/python/python_json.asp   \n",
    "God forklaring: https://realpython.com/python-json/   \n",
    "Officiel dokumentation: https://docs.python.org/3/library/json.html"
   ]
  },
  {
   "cell_type": "code",
   "execution_count": null,
   "metadata": {
    "ExecuteTime": {
     "start_time": "2023-09-19T12:57:04.195384Z"
    }
   },
   "outputs": [],
   "source": [
    "import json\n",
    "import requests\n",
    "\n",
    "read_from_file = False\n",
    "def json_stub():\n",
    "    if read_from_file:\n",
    "        with open(\"insert_filename_here.json\", 'r') as f:\n",
    "            dic = json.loads(f.read())  # invoke json.loads() on the contents of the file, as opposed to the file path of that JSON\n",
    "        print(dic)\n",
    "    else:  # read from web\n",
    "        r = requests.get('https://jsonplaceholder.typicode.com/users')\n",
    "        print(r.json()[0])\n",
    "\n",
    "json_stub()"
   ]
  },
  {
   "cell_type": "markdown",
   "metadata": {},
   "source": [
    "### Colored text"
   ]
  },
  {
   "cell_type": "markdown",
   "metadata": {},
   "source": [
    "Forskellige måder at printe farvet tekst på: https://www.geeksforgeeks.org/print-colors-python-terminal/"
   ]
  },
  {
   "cell_type": "code",
   "execution_count": null,
   "metadata": {
    "ExecuteTime": {
     "start_time": "2023-09-19T12:57:04.196384500Z"
    }
   },
   "outputs": [],
   "source": [
    "Black, Red, Green, Yellow, Blue, Magenta, Cyan = \"\\u001b[30m\", \"\\u001b[31m\", \"\\u001b[32m\", \"\\u001b[33m\", \"\\u001b[34m\", \"\\u001b[35m\", \"\\u001b[36m\"\n",
    "BrightRed, BrightGreen, BrightYellow, BrightBlue, BrightMagenta, BrightCyan, BrightWhite = \"\\u001b[31;1m\", \"\\u001b[32;1m\", \"\\u001b[33;1m\", \"\\u001b[34;1m\", \"\\u001b[35;1m\", \"\\u001b[36;1m\", \"\\u001b[37;1m\"\n",
    "Reset = \"\\u001b[0m\"\n",
    "colors = [Black, Red, Green, Yellow, Blue, Magenta, Cyan, BrightRed, BrightGreen, BrightYellow, BrightBlue, BrightMagenta, BrightCyan, BrightWhite]\n",
    "for color in colors:\n",
    "    print(color + \"Hello\" + Reset +\" world\", end=\" \")\n"
   ]
  },
  {
   "cell_type": "code",
   "execution_count": null,
   "metadata": {
    "ExecuteTime": {
     "start_time": "2023-09-19T12:57:04.196384500Z"
    }
   },
   "outputs": [],
   "source": []
  }
 ],
 "metadata": {
  "kernelspec": {
   "display_name": "Python 3 (ipykernel)",
   "language": "python",
   "name": "python3"
  },
  "language_info": {
   "codemirror_mode": {
    "name": "ipython",
    "version": 3
   },
   "file_extension": ".py",
   "mimetype": "text/x-python",
   "name": "python",
   "nbconvert_exporter": "python",
   "pygments_lexer": "ipython3",
   "version": "3.10.7"
  },
  "toc-autonumbering": false,
  "toc-showcode": false,
  "toc-showmarkdowntxt": false,
  "toc-showtags": false
 },
 "nbformat": 4,
 "nbformat_minor": 4
}
