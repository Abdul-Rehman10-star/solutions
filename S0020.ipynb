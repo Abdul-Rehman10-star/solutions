{
 "cells": [
  {
   "cell_type": "markdown",
   "id": "96295c0b-871e-4fd5-8b96-80c7b3d2ae5e",
   "metadata": {},
   "source": [
    "### String Operations, User Input, Control Statements"
   ]
  },
  {
   "cell_type": "markdown",
   "id": "e3eebb97-855f-4a88-a4b1-0a7680b3df68",
   "metadata": {},
   "source": [
    "##### [Læs afsnittet \"Strings in Python\"](https://www.freecodecamp.org/news/the-python-handbook/#stringsinpython)  "
   ]
  },
  {
   "cell_type": "markdown",
   "id": "382252ba-a286-484c-ac8d-6b31d9e2af93",
   "metadata": {},
   "source": [
    "Udfør den næste celle og forstå resultatet. "
   ]
  },
  {
   "cell_type": "code",
   "execution_count": null,
   "id": "588a8dad-ea87-4e77-9a00-fc75882270c1",
   "metadata": {},
   "outputs": [],
   "source": [
    "string_1 = \"word1\"\n",
    "string_2 = 'word2'  # I Python kan du benytte \" eller ' for strings. Det er ligemeget.\n",
    "print(string_1 + string_2)\n",
    "print(string_1 + \" \" + string_2)"
   ]
  },
  {
   "cell_type": "markdown",
   "id": "0e060638-e004-4eb1-b89e-a3c7e2f6ed19",
   "metadata": {},
   "source": [
    "Udfør den næste celle. Der opstår en fejl. Hvorfor? Forandre den fejlagtige kodelinje sådan at der bliver printet \"5 is greater than 3\""
   ]
  },
  {
   "cell_type": "code",
   "execution_count": null,
   "id": "e3ae29e0-936a-4cca-8c8e-56ee5d0c9193",
   "metadata": {},
   "outputs": [],
   "source": [
    "number1 = 5\n",
    "number2 = 3\n",
    "print(number1 + \" is greater than \" + number2)"
   ]
  },
  {
   "cell_type": "markdown",
   "id": "19a28354-461f-4838-8ae5-3e971e8e9cd1",
   "metadata": {},
   "source": [
    "Udfør de næste celler en ad gangen. Før du udfører en celle, regn resultatet ud på forhånd. Når du får et uventet resultat, forstår hvorfor.\n",
    "Leg gerne med cellerne. Forandre dem og udfør dem igen. Du kan også tilføje nye celler."
   ]
  },
  {
   "cell_type": "code",
   "execution_count": null,
   "id": "f470c0fd-8a6a-49b3-abe4-37c21269cc14",
   "metadata": {},
   "outputs": [],
   "source": [
    "string1 = \"hej\"\n",
    "print(string1)"
   ]
  },
  {
   "cell_type": "code",
   "execution_count": null,
   "id": "ec9585d9-912e-4cfe-b43c-f27ae301955d",
   "metadata": {},
   "outputs": [],
   "source": [
    "string1 += \", \"\n",
    "print(string1)"
   ]
  },
  {
   "cell_type": "code",
   "execution_count": null,
   "id": "034c0694-4611-4416-9f72-967fd14ec6e3",
   "metadata": {},
   "outputs": [],
   "source": [
    "string1 += string1\n",
    "print(string1)"
   ]
  },
  {
   "cell_type": "code",
   "execution_count": null,
   "id": "1e5a4d1f-d708-450e-bc4d-d6bbab4437f3",
   "metadata": {},
   "outputs": [],
   "source": [
    "print(string1.upper())"
   ]
  },
  {
   "cell_type": "code",
   "execution_count": null,
   "id": "69aa6d23-3175-4d88-ae5a-52b6a3000d48",
   "metadata": {},
   "outputs": [],
   "source": [
    "print(string1.isupper())"
   ]
  },
  {
   "cell_type": "code",
   "execution_count": null,
   "id": "d63856bf-5bf3-4c78-bbb9-4e214697d930",
   "metadata": {
    "tags": []
   },
   "outputs": [],
   "source": [
    "print(string1.replace(\"e\", \"ø\"))"
   ]
  },
  {
   "cell_type": "code",
   "execution_count": null,
   "id": "cd4864ad-0eed-4a9b-9d22-59692c4a9261",
   "metadata": {},
   "outputs": [],
   "source": [
    "print(string1.split(\"j\"))"
   ]
  },
  {
   "cell_type": "code",
   "execution_count": 27,
   "id": "21ae650b-29bc-4789-b2d0-2e95d4cf1032",
   "metadata": {},
   "outputs": [
    {
     "name": "stdout",
     "output_type": "stream",
     "text": [
      "False\n"
     ]
    }
   ],
   "source": [
    "string2 = \"software\"\n",
    "print(\"h\" in string2)"
   ]
  },
  {
   "cell_type": "code",
   "execution_count": 28,
   "id": "647169d0-dc12-4c7f-a8b9-23ca58236190",
   "metadata": {},
   "outputs": [
    {
     "name": "stdout",
     "output_type": "stream",
     "text": [
      "8\n"
     ]
    }
   ],
   "source": [
    "print(len(string2))"
   ]
  },
  {
   "cell_type": "code",
   "execution_count": 29,
   "id": "c8d34225-1e2c-4f4e-b73f-2d440d4291f2",
   "metadata": {},
   "outputs": [
    {
     "name": "stdout",
     "output_type": "stream",
     "text": [
      "software\n",
      "Ny linje!\n"
     ]
    }
   ],
   "source": [
    "print(string2 + \"\\nNy linje!\")"
   ]
  },
  {
   "cell_type": "code",
   "execution_count": 30,
   "id": "1b0c4399-94dd-4ee4-95f6-c901d12aaa4f",
   "metadata": {},
   "outputs": [
    {
     "name": "stdout",
     "output_type": "stream",
     "text": [
      "s\n"
     ]
    }
   ],
   "source": [
    "print(string2[0])"
   ]
  },
  {
   "cell_type": "code",
   "execution_count": 31,
   "id": "aef23a3c-3ce8-405b-9d92-ec6aed551613",
   "metadata": {},
   "outputs": [
    {
     "name": "stdout",
     "output_type": "stream",
     "text": [
      "t\n"
     ]
    }
   ],
   "source": [
    "print(string2[3])"
   ]
  },
  {
   "cell_type": "code",
   "execution_count": 32,
   "id": "56b5ae2a-7c79-4f50-bc41-4aaa8df26526",
   "metadata": {},
   "outputs": [
    {
     "name": "stdout",
     "output_type": "stream",
     "text": [
      "e\n"
     ]
    }
   ],
   "source": [
    "print(string2[-1])"
   ]
  },
  {
   "cell_type": "code",
   "execution_count": 33,
   "id": "c6567c75-2d6b-4498-b805-9232daae1a8e",
   "metadata": {},
   "outputs": [
    {
     "name": "stdout",
     "output_type": "stream",
     "text": [
      "w\n"
     ]
    }
   ],
   "source": [
    "print(string2[-4])"
   ]
  },
  {
   "cell_type": "code",
   "execution_count": 35,
   "id": "9c2cc1a0-6224-4590-b322-ea8753f8bcd6",
   "metadata": {},
   "outputs": [
    {
     "name": "stdout",
     "output_type": "stream",
     "text": [
      "ftware\n"
     ]
    }
   ],
   "source": [
    "print(string2[2:])"
   ]
  },
  {
   "cell_type": "code",
   "execution_count": 36,
   "id": "2b089016-5a20-401f-a191-dd1a7557239b",
   "metadata": {},
   "outputs": [
    {
     "name": "stdout",
     "output_type": "stream",
     "text": [
      "ftwa\n"
     ]
    }
   ],
   "source": [
    "print(string2[2:6])"
   ]
  },
  {
   "cell_type": "markdown",
   "id": "4c5d22f7-2c1b-4054-a50d-2761ca9f67b9",
   "metadata": {},
   "source": [
    "##### [Læs afsnittet \"User Input in Python\"](https://www.freecodecamp.org/news/the-python-handbook/#userinputinpython)  "
   ]
  },
  {
   "cell_type": "markdown",
   "id": "81169767-b14d-437f-9305-b325f8bebb0a",
   "metadata": {},
   "source": [
    "Skrev et program i den næste celle.  \n",
    "Når man starter programmet, spørger den \"How old are you?\".  \n",
    "Så kan man indtaste et tal.  \n",
    "Derefter svarer programmet med \"In ten years are you x years old.\" hvor x er det korrekte tal.\n",
    "(Tip: Muligvis har du brug for at google \"type casting python\".)"
   ]
  },
  {
   "cell_type": "code",
   "execution_count": 1,
   "id": "c331ebc8-f07d-4593-8d98-ec4d0de38fed",
   "metadata": {},
   "outputs": [],
   "source": [
    "# Skrev dit program her."
   ]
  },
  {
   "cell_type": "markdown",
   "id": "688754d8-fdee-4dfc-971a-8b81ad505e85",
   "metadata": {},
   "source": [
    "##### [Læs afsnittet \"Control Statements in Python\"](https://www.freecodecamp.org/news/the-python-handbook/#controlstatementsinpython)  "
   ]
  },
  {
   "cell_type": "markdown",
   "id": "b1310800-2fd2-4298-addb-74112e484272",
   "metadata": {},
   "source": [
    "Udfør og forstå den følgende celle.  \n",
    "Forandre programmet sådan at den printer \"number1<=number2\" når det er sandt."
   ]
  },
  {
   "cell_type": "code",
   "execution_count": 17,
   "id": "61594c96-dd19-4665-af9a-5efc1b880026",
   "metadata": {},
   "outputs": [
    {
     "name": "stdout",
     "output_type": "stream",
     "text": [
      "number1>number2\n"
     ]
    }
   ],
   "source": [
    "number1 = 5\n",
    "number2 = 4\n",
    "if number1 > number2:\n",
    "    print(\"number1>number2\")  # you can press tab or 4 spaces in order to indent a line"
   ]
  },
  {
   "cell_type": "markdown",
   "id": "b0341044-9447-4bad-a6b4-b5f9051c2adb",
   "metadata": {},
   "source": [
    "Udfør og forstå den følgende celle.  \n",
    "Forandre programmet sådan at en input større end 50 resulterer i output \"input is 50 or larger\""
   ]
  },
  {
   "cell_type": "code",
   "execution_count": 16,
   "id": "0816123e-9f51-46db-8963-3b0b8df731d1",
   "metadata": {},
   "outputs": [
    {
     "name": "stdin",
     "output_type": "stream",
     "text": [
      "type a number:  17\n"
     ]
    },
    {
     "name": "stdout",
     "output_type": "stream",
     "text": [
      "input is between 13 and 19\n",
      "this gets always printed\n"
     ]
    }
   ],
   "source": [
    "number_input = int(input(\"type a number: \"))\n",
    "if number_input > 2 and number_input < 13:\n",
    "    print(\"input is between 2 and 13\")\n",
    "elif number_input > 13 and number_input < 19:\n",
    "    print(\"input is between 13 and 19\")\n",
    "elif number_input >= 19:\n",
    "    print(\"input is 19 or larger\")\n",
    "else:\n",
    "    print(\"input is 1 or less\")\n",
    "print(\"this gets always printed\")"
   ]
  },
  {
   "cell_type": "markdown",
   "id": "1851ee61-7ddb-4eac-84c7-6f5706f7cc19",
   "metadata": {},
   "source": [
    "Send denne tekst som Teams-besked til læreren:  Jeg er færdig med S0020."
   ]
  },
  {
   "cell_type": "code",
   "execution_count": null,
   "id": "e35308ac-393f-45f8-9512-09991ac79527",
   "metadata": {},
   "outputs": [],
   "source": []
  }
 ],
 "metadata": {
  "kernelspec": {
   "display_name": "Python 3 (ipykernel)",
   "language": "python",
   "name": "python3"
  },
  "language_info": {
   "codemirror_mode": {
    "name": "ipython",
    "version": 3
   },
   "file_extension": ".py",
   "mimetype": "text/x-python",
   "name": "python",
   "nbconvert_exporter": "python",
   "pygments_lexer": "ipython3",
   "version": "3.10.8"
  }
 },
 "nbformat": 4,
 "nbformat_minor": 5
}
