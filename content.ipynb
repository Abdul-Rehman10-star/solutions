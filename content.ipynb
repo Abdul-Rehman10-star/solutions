{
 "cells": [
  {
   "cell_type": "markdown",
   "id": "21d7bcb6-ff33-4be5-b1f0-32a80c4a03bf",
   "metadata": {},
   "source": [
    "# Software Konstruktion S1 og S2"
   ]
  },
  {
   "cell_type": "markdown",
   "id": "9b20026d-c6d7-4081-a7ac-b69cd1755a3c",
   "metadata": {},
   "source": [
    "#### S0001 - S0016: Python introduction in jupyter notebook    \n",
    "* Variables, Assignments, Operators\n",
    "* String Operations, User Input, f-strings, Control Statements\n",
    "* Lists, Tuples, Dictionaries\n",
    "* Functions, while loops, for loops"
   ]
  },
  {
   "cell_type": "markdown",
   "id": "1f179160-4025-470e-b95c-36951538adcb",
   "metadata": {},
   "source": [
    "#### S0018: Test pycharm and github"
   ]
  },
  {
   "cell_type": "markdown",
   "id": "178dc7a1-6e29-44b9-97f2-6fcf1471df82",
   "metadata": {},
   "source": [
    "#### S0045 - S0047: Exercise \"Cars\""
   ]
  },
  {
   "cell_type": "markdown",
   "id": "50e8dfdd-513a-4c00-a10e-bfc8aa32548a",
   "metadata": {},
   "source": [
    "#### S0048 - S0052: Exercise \"Cars\" (this time object oriented)\n",
    "* Classes, methods, attributes\n",
    "* Constructor\n",
    "* repr and f-strings\n",
    "* Inheritance and polymorphism\n",
    "* Encapsulation"
   ]
  },
  {
   "cell_type": "markdown",
   "id": "e805a9da-ccf2-4286-b730-f84853f844c0",
   "metadata": {},
   "source": [
    "#### S0060 - S0069: Exercise \"Role playing game\""
   ]
  },
  {
   "cell_type": "code",
   "execution_count": null,
   "id": "f8eea1f5-34e3-48b2-8fca-96ba8eced1e2",
   "metadata": {},
   "outputs": [],
   "source": []
  }
 ],
 "metadata": {
  "kernelspec": {
   "display_name": "Python 3 (ipykernel)",
   "language": "python",
   "name": "python3"
  },
  "language_info": {
   "codemirror_mode": {
    "name": "ipython",
    "version": 3
   },
   "file_extension": ".py",
   "mimetype": "text/x-python",
   "name": "python",
   "nbconvert_exporter": "python",
   "pygments_lexer": "ipython3",
   "version": "3.10.8"
  }
 },
 "nbformat": 4,
 "nbformat_minor": 5
}
