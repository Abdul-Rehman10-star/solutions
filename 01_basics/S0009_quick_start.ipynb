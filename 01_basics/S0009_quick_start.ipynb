{
 "cells": [
  {
   "cell_type": "markdown",
   "source": [
    "[Programmering hos AspIT (Indholdsfortegnelse)](https://colab.research.google.com/github/lichtgestalter/AspIT_Python/blob/master/01_basics/S0008_content.ipynb)\n",
    "\n",
    "[Python Basics, del 1](https://colab.research.google.com/github/lichtgestalter/AspIT_Python/blob/master/01_basics/S0010_basics.ipynb)\n",
    "\n",
    "[Python Basics, del 2](https://colab.research.google.com/github/lichtgestalter/AspIT_Python/blob/master/01_basics/S0020_basics.ipynb)\n",
    "\n",
    "[Python Basics, del 3](https://colab.research.google.com/github/lichtgestalter/AspIT_Python/blob/master/01_basics/S0030_basics.ipynb)\n",
    "\n",
    "[Python Basics, del 4](https://colab.research.google.com/github/lichtgestalter/AspIT_Python/blob/master/01_basics/S0040_basics.ipynb)\n"
   ],
   "metadata": {
    "collapsed": false
   }
  },
  {
   "cell_type": "code",
   "execution_count": null,
   "outputs": [],
   "source": [],
   "metadata": {
    "collapsed": false
   }
  }
 ],
 "metadata": {
  "kernelspec": {
   "display_name": "Python 3 (ipykernel)",
   "language": "python",
   "name": "python3"
  },
  "language_info": {
   "codemirror_mode": {
    "name": "ipython",
    "version": 3
   },
   "file_extension": ".py",
   "mimetype": "text/x-python",
   "name": "python",
   "nbconvert_exporter": "python",
   "pygments_lexer": "ipython3",
   "version": "3.10.7"
  }
 },
 "nbformat": 4,
 "nbformat_minor": 5
}
