{
 "cells": [
  {
   "cell_type": "markdown",
   "source": [
    "https://colab.research.google.com/github/lichtgestalter/AspIT_Python/blob/master/01_basics/S0008_content.ipynb\n",
    "https://colab.research.google.com/github/lichtgestalter/AspIT_Python/blob/master/01_basics/S0010_basics.ipynb\n",
    "https://colab.research.google.com/github/lichtgestalter/AspIT_Python/blob/master/01_basics/S0020_basics.ipynb\n",
    "https://colab.research.google.com/github/lichtgestalter/AspIT_Python/blob/master/01_basics/S0030_basics.ipynb\n",
    "https://colab.research.google.com/github/lichtgestalter/AspIT_Python/blob/master/01_basics/S0040_basics.ipynb\n",
    "\n"
   ],
   "metadata": {
    "collapsed": false
   }
  }
 ],
 "metadata": {
  "kernelspec": {
   "display_name": "Python 3 (ipykernel)",
   "language": "python",
   "name": "python3"
  },
  "language_info": {
   "codemirror_mode": {
    "name": "ipython",
    "version": 3
   },
   "file_extension": ".py",
   "mimetype": "text/x-python",
   "name": "python",
   "nbconvert_exporter": "python",
   "pygments_lexer": "ipython3",
   "version": "3.10.7"
  }
 },
 "nbformat": 4,
 "nbformat_minor": 5
}
