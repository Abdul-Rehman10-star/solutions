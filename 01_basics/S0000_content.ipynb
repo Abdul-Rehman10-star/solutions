{
 "cells": [
  {
   "cell_type": "markdown",
   "id": "21d7bcb6-ff33-4be5-b1f0-32a80c4a03bf",
   "metadata": {},
   "source": [
    "# Software Konstruktion S1 og S2"
   ]
  },
  {
   "cell_type": "markdown",
   "id": "9b20026d-c6d7-4081-a7ac-b69cd1755a3c",
   "metadata": {
    "jp-MarkdownHeadingCollapsed": true,
    "tags": []
   },
   "source": [
    "#### S0001 - S0016: Introduktion til Python (jupyter notebook)    \n",
    "* Variables, Assignments, Operators\n",
    "* String Operations, User Input, f-strings, Control Statements\n",
    "* Lists, Tuples, Dictionaries\n",
    "* Functions, while loops, for loops"
   ]
  },
  {
   "cell_type": "markdown",
   "id": "1f179160-4025-470e-b95c-36951538adcb",
   "metadata": {},
   "source": [
    "#### S0018 - S0042: Opgaver til introduktionen\n",
    "* Væn dig til pycharm og github\n",
    "* Anvend det, du har lært i introduktionen for at løse nogle programmeringsopgaver"
   ]
  },
  {
   "cell_type": "markdown",
   "id": "50e8dfdd-513a-4c00-a10e-bfc8aa32548a",
   "metadata": {},
   "source": [
    "#### S0048 - S0053: Objekt orienteret programmering (OOP)\n",
    "* Classes, methods, attributes\n",
    "* Constructor\n",
    "* Inheritance and polymorphism\n",
    "* Encapsulation"
   ]
  },
  {
   "cell_type": "markdown",
   "id": "e805a9da-ccf2-4286-b730-f84853f844c0",
   "metadata": {},
   "source": [
    "#### S0054 - S0085: Opgaver til objekt orienteret programmering\n",
    "* Anvend det, du har lært i OOP-introduktionen for at løse nogle programmeringsopgaver med OOP"
   ]
  },
  {
   "cell_type": "markdown",
   "id": "f3e4af2b-97f9-413d-afa1-6df6bb1b4fa5",
   "metadata": {
    "jp-MarkdownHeadingCollapsed": true,
    "tags": []
   },
   "source": [
    "#### S0090 - S0199: Udfordrende opgaver  \n",
    "* Indfører ingen nye koncepter\n",
    "* Men kræver kreativitet og lidt avancerede algoritmer"
   ]
  },
  {
   "cell_type": "markdown",
   "id": "a39f1920-4a94-4c7c-9597-686edaa1b6a1",
   "metadata": {},
   "source": [
    "#### S2000 - S2199: GUI\n",
    "* Lær biblioteket tkinter at kende\n",
    "* Brug widgets som Button, Frame, Labelframe, Treeview for at bygge en GUI"
   ]
  },
  {
   "cell_type": "markdown",
   "id": "dfc22284-a7d1-402e-8e0b-c970e3a3c8a1",
   "metadata": {},
   "source": [
    "#### S2200 - S2399: Database\n",
    "* Installer biblioteket sqlalchemy og lær den at kende\n",
    "* Opret en table i en SQL-Database og en tilsvarende klasse i Python med Object Related Mapping (ORM)\n",
    "* Skriv testdata ind i databasen og læs den igen fra databasen"
   ]
  },
  {
   "cell_type": "code",
   "execution_count": null,
   "id": "f8eea1f5-34e3-48b2-8fca-96ba8eced1e2",
   "metadata": {},
   "outputs": [],
   "source": []
  }
 ],
 "metadata": {
  "kernelspec": {
   "display_name": "Python 3 (ipykernel)",
   "language": "python",
   "name": "python3"
  },
  "language_info": {
   "codemirror_mode": {
    "name": "ipython",
    "version": 3
   },
   "file_extension": ".py",
   "mimetype": "text/x-python",
   "name": "python",
   "nbconvert_exporter": "python",
   "pygments_lexer": "ipython3",
   "version": "3.10.7"
  }
 },
 "nbformat": 4,
 "nbformat_minor": 5
}
