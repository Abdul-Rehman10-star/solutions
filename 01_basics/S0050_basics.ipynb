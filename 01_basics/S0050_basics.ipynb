{
 "cells": [
  {
   "cell_type": "markdown",
   "id": "03fbec3e-7c5b-4e64-8a0b-5128293d4932",
   "metadata": {},
   "source": "### Valgfrit uddybelse om loops"
  },
  {
   "cell_type": "markdown",
   "id": "222781a3-d004-4591-86b7-46d0e0dedb3d",
   "metadata": {},
   "source": " Tilføj koden i den næste celle sådan at der udskrives \"A1 A2 A3 B1 .... D4 D5\"."
  },
  {
   "cell_type": "code",
   "execution_count": null,
   "id": "4ee02809-687f-4b2e-80d4-609ceea0f4f8",
   "metadata": {},
   "outputs": [],
   "source": [
    "rows = [\"A\", \"B\", \"C\", \"D\"]\n",
    "cols = [\"1\", \"2\", \"3\", \"4\", \"5\"]\n"
   ]
  },
  {
   "cell_type": "markdown",
   "id": "01086222-5237-4730-8c5c-b8328cf62430",
   "metadata": {},
   "source": [
    " Forandre koden i den næste celle sådan at tallene 14, 18, 22, 26, 30 udskrives."
   ]
  },
  {
   "cell_type": "code",
   "execution_count": null,
   "id": "884dd003-311c-4231-8214-d379e9b2d7d6",
   "metadata": {},
   "outputs": [],
   "source": [
    "def make_numbers(start = 10\n",
    "\n",
    "\n",
    "\n",
    "stop = 25\n",
    "step_size = 3\n",
    "numberrange = range(start, stop, step_size)\n",
    "for number in numberrange:\n",
    "    print(number)"
   ]
  },
  {
   "cell_type": "markdown",
   "id": "463401fa-774c-4ec2-9815-d61ebefb6d3d",
   "metadata": {},
   "source": [
    " Forandre koden i den næste celle sådan at ved siden af hvert tal udskrives også dens kvadrattal."
   ]
  },
  {
   "cell_type": "code",
   "execution_count": null,
   "id": "13d99879-767f-4f17-8f20-9c5cf2fa4192",
   "metadata": {},
   "outputs": [],
   "source": [
    "numberrange = range(5)\n",
    "for number in numberrange:\n",
    "    print(number)"
   ]
  },
  {
   "cell_type": "markdown",
   "id": "69f49e82-8dee-4eb6-8546-f530af5c5501",
   "metadata": {},
   "source": [
    "Forstod/løste du alle opgaver på denne side?   \n",
    "Ellers spørg Google, [W3schools](https://www.w3schools.com/python/), andre elever eller læreren (i den rækkefølge).  \n",
    "__Når du forstår (næsten) alt på denne side, send denne tekst som Teams-besked til læreren:  Jeg er færdig med S0040.__"
   ]
  },
  {
   "cell_type": "markdown",
   "id": "e586a853-706a-4c16-9cbb-8b6fa52d61d3",
   "metadata": {},
   "source": [
    " Åbn pycharm og arbejd videre med S0100_test.py."
   ]
  },
  {
   "cell_type": "code",
   "execution_count": null,
   "id": "128a1999-9f38-4216-be3d-0b807cf5aca6",
   "metadata": {},
   "outputs": [],
   "source": []
  }
 ],
 "metadata": {
  "kernelspec": {
   "display_name": "Python 3 (ipykernel)",
   "language": "python",
   "name": "python3"
  },
  "language_info": {
   "codemirror_mode": {
    "name": "ipython",
    "version": 3
   },
   "file_extension": ".py",
   "mimetype": "text/x-python",
   "name": "python",
   "nbconvert_exporter": "python",
   "pygments_lexer": "ipython3",
   "version": "3.10.7"
  }
 },
 "nbformat": 4,
 "nbformat_minor": 5
}
