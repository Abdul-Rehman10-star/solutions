{
 "cells": [
  {
   "cell_type": "markdown",
   "id": "03fbec3e-7c5b-4e64-8a0b-5128293d4932",
   "metadata": {},
   "source": "### Valgfrit uddybelse om loops"
  },
  {
   "metadata": {},
   "cell_type": "markdown",
   "source": "Kopier delopgaverne gerne til din solution mappe, hvis du hellere vil benytte pycharm redskaber som debuggeren for at løse opgaven.",
   "id": "dd43b788cdecb576"
  },
  {
   "cell_type": "markdown",
   "id": "222781a3-d004-4591-86b7-46d0e0dedb3d",
   "metadata": {},
   "source": " Tilføj koden i den næste celle sådan at der udskrives \"A1 A2 A3 B1 .... D4 D5\"."
  },
  {
   "cell_type": "code",
   "execution_count": null,
   "id": "4ee02809-687f-4b2e-80d4-609ceea0f4f8",
   "metadata": {},
   "outputs": [],
   "source": [
    "rows = [\"A\", \"B\", \"C\", \"D\"]\n",
    "cols = [\"1\", \"2\", \"3\", \"4\", \"5\"]\n"
   ]
  },
  {
   "cell_type": "markdown",
   "id": "01086222-5237-4730-8c5c-b8328cf62430",
   "metadata": {},
   "source": " Forandre koden i funktionen sådan at den gør hvad der står i dens dokumentation."
  },
  {
   "cell_type": "code",
   "execution_count": null,
   "id": "884dd003-311c-4231-8214-d379e9b2d7d6",
   "metadata": {},
   "outputs": [],
   "source": [
    "def make_numbers(start, multiplier, upper_limit):\n",
    "    \"\"\" Beginning with the start value, this function prints the current value, \n",
    "    then multiplies it with multiplier, prints the new current value etc.\n",
    "    The function stops when the current value is greater than the upper limit\"\"\"\n",
    "    0\n",
    "\n",
    "\n",
    "\n",
    "make_numbers(10, 2, 12345) "
   ]
  },
  {
   "metadata": {},
   "cell_type": "markdown",
   "source": "Skriv kode i den næste celle, som printer alle kwadrattal (1, 4, 9, ...), som er mindre end 7000",
   "id": "594b64c9865cb449"
  },
  {
   "metadata": {},
   "cell_type": "code",
   "outputs": [],
   "execution_count": null,
   "source": [
    "def print_kwadrattal():\n",
    "    0\n",
    "    \n",
    "    "
   ],
   "id": "c5dae6eec9d6d083"
  }
 ],
 "metadata": {
  "kernelspec": {
   "display_name": "Python 3 (ipykernel)",
   "language": "python",
   "name": "python3"
  },
  "language_info": {
   "codemirror_mode": {
    "name": "ipython",
    "version": 3
   },
   "file_extension": ".py",
   "mimetype": "text/x-python",
   "name": "python",
   "nbconvert_exporter": "python",
   "pygments_lexer": "ipython3",
   "version": "3.10.7"
  }
 },
 "nbformat": 4,
 "nbformat_minor": 5
}
