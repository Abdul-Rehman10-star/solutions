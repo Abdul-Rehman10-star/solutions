{
 "cells": [
  {
   "cell_type": "markdown",
   "metadata": {},
   "source": [
    "# Yderligere materiale, tips og tricks"
   ]
  },
  {
   "cell_type": "markdown",
   "metadata": {},
   "source": [
    "Kig på den første afsnit \"Pycharm Short Cuts\" en gang imellem.   \n",
    "Resten af dokumentet er en blanding af vigtige redskaber og koncepter til programmering og nogle tips&tricks.   \n",
    "Du kan godt læse hele S1 og S2 forløbet uden kendskab til dette dokument men det kan være meget hjælpsom, hvis du vil lære mere om programmering med Python.      \n"
   ]
  },
  {
   "cell_type": "markdown",
   "metadata": {},
   "source": [
    "### Pycharm Short Cuts"
   ]
  },
  {
   "cell_type": "markdown",
   "metadata": {},
   "source": [
    "https://www.jetbrains.com/help/idea/mastering-keyboard-shortcuts.html\n",
    "\n",
    "Alt+Down/Up: move line down/up  \n",
    "Ctrl+Ins: insert line  \n",
    "Ctrl+Del: delete line  \n",
    "Ctrl+D : duplicate line  \n",
    "Ctrl+Shift+J: join lines  \n",
    "Alt+Shift+mousedrag: rectangular selection  \n",
    "Ctrl+W / Ctrl+Shift+W: expand / reduce selection  \n",
    "\n",
    "Ctrl+1: comment / uncomment  \n",
    "Ctrl+Shift+(Numpad)Minus: collapse all (folding of blocks, functions, classes, etc.)  \n",
    "Ctrl+Shift+(Numpad)Plus: expand all \n",
    "\n",
    "Shift+F6: refactor (change names etc.)  \n",
    "Ctrl+Shift+A: search IDE commands  \n",
    "Ctrl+Alt+S: settings  \n",
    "Ctrl+B: show usages  \n",
    "Ctrl+Alt+Shift+F8: remove all breakpoints  "
   ]
  },
  {
   "cell_type": "markdown",
   "metadata": {},
   "source": [
    "### Comprehension"
   ]
  },
  {
   "cell_type": "markdown",
   "metadata": {},
   "source": [
    "Kort forklaring: https://www.w3schools.com/python/python_lists_comprehension.asp   \n",
    "Komplet forklaring: https://realpython.com/list-comprehension-python/   \n",
    "God forklaring: https://towardsdatascience.com/a-guide-to-python-comprehensions-4d16af68c97e"
   ]
  },
  {
   "cell_type": "code",
   "execution_count": 10,
   "metadata": {},
   "outputs": [
    {
     "name": "stdout",
     "output_type": "stream",
     "text": [
      "dictionary_comp = {0: 0, 1: 1, 2: 4, 3: 9, 4: 16, 5: 25, 6: 36, 7: 49, 8: 64, 9: 81}\n",
      "list_comp = [0, 1, 4, 9, 16, 25, 36, 49, 64, 81]\n",
      "set_comp = {0, 1, 2}\n",
      "generator_comp = <generator object <genexpr> at 0x000001D2360F3610>\n"
     ]
    }
   ],
   "source": [
    "dictionary_comp = {i: i * i for i in range(10)}\n",
    "list_comp = [i * i for i in range(10)]\n",
    "set_comp = {i%3 for i in range(10)}\n",
    "generator_comp = (2 * i + 5 for i in range(10))  # see explanation for generators in this document\n",
    "print(f'{dictionary_comp = }')\n",
    "print(f'{list_comp = }')\n",
    "print(f'{set_comp = }')\n",
    "print(f'{generator_comp = }')"
   ]
  },
  {
   "cell_type": "markdown",
   "metadata": {},
   "source": [
    "### Magic Methods (Dunder Methods)"
   ]
  },
  {
   "cell_type": "markdown",
   "metadata": {},
   "source": [
    "Læs https://www.tutorialsteacher.com/python/magic-methods-in-python   \n",
    "Forstår hvad magic methods er og får en overblik om hvilke findes."
   ]
  },
  {
   "cell_type": "markdown",
   "metadata": {},
   "source": [
    "### Unpacking"
   ]
  },
  {
   "cell_type": "markdown",
   "metadata": {},
   "source": [
    "Super vigtig blandt andet for parameter unpacking (*args, **kwargs)   \n",
    "God forklaring for parameter unpacking: https://realpython.com/python-kwargs-and-args/    \n",
    "God forklaring for alle måde man kan bruge unpacking: https://treyhunner.com/2018/10/asterisks-in-python-what-they-are-and-how-to-use-them/"
   ]
  },
  {
   "cell_type": "code",
   "execution_count": 2,
   "metadata": {},
   "outputs": [
    {
     "name": "stdout",
     "output_type": "stream",
     "text": [
      "a=1 b=[2, 3, 4, 5] c=6 d=7 e=8\n",
      "<class 'list'>\n"
     ]
    }
   ],
   "source": [
    "shape1 = (\"abc\")    # string\n",
    "shape2 = (\"abc\",)   # tuple\n",
    "\n",
    "a, *b, c, d, e = (1, 2, 3, 4, 5, 6, 7, 8)  # *-Operator for unpacking (works for tuples and lists)\n",
    "print(f'{a=} {b=} {c=} {d=} {e=}')\n",
    "print(type(b))"
   ]
  },
  {
   "cell_type": "markdown",
   "metadata": {},
   "source": [
    "### For Loop with 2 or more Iterators"
   ]
  },
  {
   "cell_type": "markdown",
   "metadata": {},
   "source": [
    "Kort forklaring: https://www.w3schools.com/python/ref_func_zip.asp   \n",
    "Komplet forklaring: https://realpython.com/python-zip-function/"
   ]
  },
  {
   "cell_type": "code",
   "execution_count": 3,
   "metadata": {},
   "outputs": [
    {
     "name": "stdout",
     "output_type": "stream",
     "text": [
      "4 + a   5 + b   6 + c   "
     ]
    }
   ],
   "source": [
    "for i, j in zip(range(4,23), \"abc\"):\n",
    "    print(i, \"+\", j, \"  \", end=\"\")"
   ]
  },
  {
   "cell_type": "markdown",
   "metadata": {},
   "source": [
    "###  Lambda Functions (Example: sort class objects)"
   ]
  },
  {
   "cell_type": "markdown",
   "metadata": {},
   "source": [
    "Kort forklaring: https://www.w3schools.com/python/python_lambda.asp    \n",
    "Komplet forklaring: https://realpython.com/python-lambda/"
   ]
  },
  {
   "cell_type": "code",
   "execution_count": 4,
   "metadata": {},
   "outputs": [
    {
     "name": "stdout",
     "output_type": "stream",
     "text": [
      "before [self.a=9  self.b=3, self.a=7  self.b=5]\n",
      "after  [self.a=7  self.b=5, self.a=9  self.b=3]\n"
     ]
    }
   ],
   "source": [
    "class Dummy:\n",
    "    \n",
    "    def __init__(self, a, b):\n",
    "        self.a = a\n",
    "        self.b = b\n",
    "        \n",
    "    def __repr__(self):\n",
    "        return f\"{self.a=}  {self.b=}\"\n",
    "        \n",
    "dummy1 = Dummy(9, 3)\n",
    "dummy2 = Dummy(7, 5)\n",
    "dummies = [dummy1, dummy2]\n",
    "print(\"before\", dummies)\n",
    "dummies.sort(key=lambda x: x.a, reverse=False)\n",
    "print(\"after \", dummies)"
   ]
  },
  {
   "cell_type": "markdown",
   "metadata": {},
   "source": [
    "###  JSON"
   ]
  },
  {
   "cell_type": "markdown",
   "metadata": {},
   "source": [
    "Hvordan læser og redigerer man JSON-filer?   \n",
    "Kort forklaring: https://www.w3schools.com/python/python_json.asp   \n",
    "God forklaring: https://realpython.com/python-json/   \n",
    "Officiel dokumentation: https://docs.python.org/3/library/json.html"
   ]
  },
  {
   "cell_type": "code",
   "execution_count": null,
   "metadata": {},
   "outputs": [],
   "source": [
    "import json\n",
    "def json_stub():\n",
    "    # Be sure to remember to invoke json.loads() on the contents of the file, as opposed to the file path of that JSON:\n",
    "    jsonfile = \"insert_filename_here.json\"\n",
    "    with open(jsonfile, 'r') as f:\n",
    "        dic = json.loads(f.read())\n",
    "    return dic\n",
    "\n",
    "json_stub()"
   ]
  },
  {
   "cell_type": "markdown",
   "metadata": {},
   "source": [
    "### Inline If (Ternary Operator)"
   ]
  },
  {
   "cell_type": "markdown",
   "metadata": {},
   "source": [
    "Forklaring: https://www.geeksforgeeks.org/ternary-operator-in-python/"
   ]
  },
  {
   "cell_type": "code",
   "execution_count": 6,
   "metadata": {},
   "outputs": [
    {
     "data": {
      "text/plain": [
       "'b'"
      ]
     },
     "execution_count": 6,
     "metadata": {},
     "output_type": "execute_result"
    }
   ],
   "source": [
    "x = \"a\" if 3 > 8 else \"b\"\n",
    "x"
   ]
  },
  {
   "cell_type": "markdown",
   "metadata": {},
   "source": [
    "### Generator"
   ]
  },
  {
   "cell_type": "markdown",
   "metadata": {},
   "source": [
    "Super gode forklaringer: https://www.youtube.com/watch?v=tmeKsb2Fras   \n",
    "Men forklaringerne er hurtigt og på et meget højt niveau. Brug dine pause og spol tilbage knapper meget! Dette gælder også for alle andre videoer fra denne fantastiske YouTube-kanal.   \n",
    "   \n",
    "Udførlig forklaring: https://realpython.com/introduction-to-python-generators/"
   ]
  },
  {
   "cell_type": "code",
   "execution_count": 14,
   "metadata": {},
   "outputs": [
    {
     "name": "stdout",
     "output_type": "stream",
     "text": [
      "0\n",
      "1\n",
      "in a for loop 2\n",
      "in a for loop 3\n",
      "in a for loop 4\n",
      "in a for loop 5\n"
     ]
    }
   ],
   "source": [
    "def infinite_sequence():\n",
    "    num = 0\n",
    "    while True:\n",
    "        yield num\n",
    "        num += 1\n",
    "        \n",
    "gen = infinite_sequence()\n",
    "print(next(gen))\n",
    "print(next(gen))\n",
    "for some_iterator in [3, 6, 12, 4]:\n",
    "    print(\"in a for loop\", next(gen))"
   ]
  },
  {
   "cell_type": "markdown",
   "metadata": {},
   "source": [
    "### Multiprocessing"
   ]
  },
  {
   "cell_type": "markdown",
   "metadata": {},
   "source": [
    "Introduction to multiprocessing: https://www.youtube.com/watch?v=X7vBbelRXn0&t=356s\n",
    "\n",
    "Threading vs multiprocessing in python: https://www.youtube.com/watch?v=AZnGRKFUU0c"
   ]
  },
  {
   "cell_type": "markdown",
   "metadata": {},
   "source": [
    "### Asynchronous programming"
   ]
  },
  {
   "cell_type": "markdown",
   "metadata": {},
   "source": [
    "Intro to async Python: https://www.youtube.com/watch?v=ftmdDlwMwwQ   "
   ]
  },
  {
   "cell_type": "markdown",
   "metadata": {},
   "source": [
    "### Time"
   ]
  },
  {
   "cell_type": "markdown",
   "metadata": {},
   "source": [
    "En eksempel hvordan man kan arbejde med tid i python.   \n",
    "Kort forklaring: https://www.w3schools.com/python/python_datetime.asp   \n",
    "Officiel dokumentation: https://docs.python.org/3/library/datetime.html   "
   ]
  },
  {
   "cell_type": "code",
   "execution_count": 7,
   "metadata": {},
   "outputs": [
    {
     "name": "stdout",
     "output_type": "stream",
     "text": [
      "seconds since 01.01.1970:  1683547802.900119\n",
      "transform into readable format:  2023-05-08 14:10:02.900119\n"
     ]
    }
   ],
   "source": [
    "import time\n",
    "from datetime import datetime\n",
    "\n",
    "def time_stub():\n",
    "    now = time.time()\n",
    "    print(\"seconds since 01.01.1970: \", now)\n",
    "    readable = datetime.fromtimestamp(now, tz=None)\n",
    "    print(\"transform into readable format: \", readable)\n",
    "    \n",
    "time_stub()"
   ]
  },
  {
   "cell_type": "markdown",
   "metadata": {},
   "source": [
    "### Profiling (performance optimization, runtime analysis)"
   ]
  },
  {
   "cell_type": "markdown",
   "metadata": {},
   "source": [
    "Kort forklaring: https://www.machinelearningplus.com/python/cprofile-how-to-profile-your-python-code/   \n",
    "Officiel dokumentation: https://docs.python.org/3/library/profile.html"
   ]
  },
  {
   "cell_type": "code",
   "execution_count": 8,
   "metadata": {},
   "outputs": [
    {
     "name": "stdout",
     "output_type": "stream",
     "text": [
      "         200005 function calls in 0.379 seconds\n",
      "\n",
      "   Ordered by: internal time\n",
      "\n",
      "   ncalls  tottime  percall  cumtime  percall filename:lineno(function)\n",
      "        1    0.326    0.326    0.326    0.326 C:\\Users\\ulsc\\AppData\\Local\\Temp\\ipykernel_15492\\4075409842.py:6(test_np)\n",
      "        1    0.027    0.027    0.053    0.053 C:\\Users\\ulsc\\AppData\\Local\\Temp\\ipykernel_15492\\4075409842.py:10(test_math)\n",
      "   100000    0.014    0.000    0.014    0.000 {built-in method math.sin}\n",
      "   100000    0.012    0.000    0.012    0.000 {built-in method math.sqrt}\n",
      "        1    0.000    0.000    0.000    0.000 C:\\Program Files\\Python310\\lib\\cProfile.py:117(__exit__)\n",
      "        1    0.000    0.000    0.378    0.378 C:\\Users\\ulsc\\AppData\\Local\\Temp\\ipykernel_15492\\4075409842.py:14(test)\n",
      "        1    0.000    0.000    0.000    0.000 {method 'disable' of '_lsprof.Profiler' objects}\n",
      "\n",
      "\n"
     ]
    },
    {
     "data": {
      "text/plain": [
       "<pstats.Stats at 0x1d20f49a6b0>"
      ]
     },
     "execution_count": 8,
     "metadata": {},
     "output_type": "execute_result"
    }
   ],
   "source": [
    "import cProfile\n",
    "import pstats\n",
    "import math\n",
    "import numpy as np\n",
    "\n",
    "def test_np():\n",
    "    for i in range(100000):\n",
    "        x = np.sqrt(i)*np.sin(i)\n",
    "        \n",
    "def test_math():\n",
    "    for i in range(100000):\n",
    "        x = math.sqrt(i)*math.sin(i)\n",
    "\n",
    "def test():\n",
    "    test_np()\n",
    "    test_math()\n",
    "\n",
    "\n",
    "with cProfile.Profile() as pr:\n",
    "    test()\n",
    "stats = pstats.Stats(pr)\n",
    "stats.sort_stats(pstats.SortKey.TIME)\n",
    "stats.print_stats()\n",
    "# stats.dump_stats(filename='needs_profiling.prof')"
   ]
  },
  {
   "cell_type": "markdown",
   "metadata": {},
   "source": [
    "### Colored text"
   ]
  },
  {
   "cell_type": "markdown",
   "metadata": {},
   "source": [
    "Forskellige måder at printe farvet tekst på: https://www.geeksforgeeks.org/print-colors-python-terminal/"
   ]
  },
  {
   "cell_type": "code",
   "execution_count": 9,
   "metadata": {},
   "outputs": [
    {
     "name": "stdout",
     "output_type": "stream",
     "text": [
      "\u001b[30mHello\u001b[0m world \u001b[31mHello\u001b[0m world \u001b[32mHello\u001b[0m world \u001b[33mHello\u001b[0m world \u001b[34mHello\u001b[0m world \u001b[35mHello\u001b[0m world \u001b[36mHello\u001b[0m world \u001b[31;1mHello\u001b[0m world \u001b[32;1mHello\u001b[0m world \u001b[33;1mHello\u001b[0m world \u001b[34;1mHello\u001b[0m world \u001b[35;1mHello\u001b[0m world \u001b[36;1mHello\u001b[0m world \u001b[37;1mHello\u001b[0m world "
     ]
    }
   ],
   "source": [
    "Black, Red, Green, Yellow, Blue, Magenta, Cyan = \"\\u001b[30m\", \"\\u001b[31m\", \"\\u001b[32m\", \"\\u001b[33m\", \"\\u001b[34m\", \"\\u001b[35m\", \"\\u001b[36m\"\n",
    "BrightRed, BrightGreen, BrightYellow, BrightBlue, BrightMagenta, BrightCyan, BrightWhite = \"\\u001b[31;1m\", \"\\u001b[32;1m\", \"\\u001b[33;1m\", \"\\u001b[34;1m\", \"\\u001b[35;1m\", \"\\u001b[36;1m\", \"\\u001b[37;1m\"\n",
    "Reset = \"\\u001b[0m\"\n",
    "colors = [Black, Red, Green, Yellow, Blue, Magenta, Cyan, BrightRed, BrightGreen, BrightYellow, BrightBlue, BrightMagenta, BrightCyan, BrightWhite]\n",
    "for color in colors:\n",
    "    print(color + \"Hello\" + Reset +\" world\", end=\" \")\n"
   ]
  },
  {
   "cell_type": "code",
   "execution_count": null,
   "metadata": {},
   "outputs": [],
   "source": []
  }
 ],
 "metadata": {
  "kernelspec": {
   "display_name": "Python 3 (ipykernel)",
   "language": "python",
   "name": "python3"
  },
  "language_info": {
   "codemirror_mode": {
    "name": "ipython",
    "version": 3
   },
   "file_extension": ".py",
   "mimetype": "text/x-python",
   "name": "python",
   "nbconvert_exporter": "python",
   "pygments_lexer": "ipython3",
   "version": "3.10.7"
  }
 },
 "nbformat": 4,
 "nbformat_minor": 4
}
