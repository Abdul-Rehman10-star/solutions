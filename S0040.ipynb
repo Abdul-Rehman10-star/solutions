{
 "cells": [
  {
   "cell_type": "markdown",
   "id": "03fbec3e-7c5b-4e64-8a0b-5128293d4932",
   "metadata": {},
   "source": [
    "### Functions, while loops, for loops"
   ]
  },
  {
   "cell_type": "markdown",
   "id": "94730daf-cdd8-408e-a867-948237d4fba0",
   "metadata": {
    "tags": []
   },
   "source": [
    "##### [Læs afsnittet \"Functions in Python\"](https://www.freecodecamp.org/news/the-python-handbook/#functionsinpython)  "
   ]
  },
  {
   "cell_type": "code",
   "execution_count": null,
   "id": "712d0d66-5e4a-4c0f-812f-e7f5a4b7e1e3",
   "metadata": {},
   "outputs": [],
   "source": [
    "def hello():\n",
    "    print(\"hello world\")\n",
    "\n",
    "\n",
    "def type_something():\n",
    "    user_input = input(\"click into the console window, then type something and press <return>:  \")\n",
    "    print(\"You typed: \" + user_input)"
   ]
  },
  {
   "cell_type": "markdown",
   "id": "6899002e-7bb0-487a-95a9-f574463dc388",
   "metadata": {},
   "source": [
    "Skrev et program i den næste celle, som kalder først funktionen hello og derefter funktionen type_something. Test det."
   ]
  },
  {
   "cell_type": "code",
   "execution_count": null,
   "id": "182f0901-114f-4fc0-b1ed-0ffa2ff72694",
   "metadata": {},
   "outputs": [],
   "source": [
    "# Skrev dit program herinde\n"
   ]
  },
  {
   "cell_type": "code",
   "execution_count": null,
   "id": "62aa0d8d-774e-4101-8a30-bde488972b84",
   "metadata": {},
   "outputs": [],
   "source": [
    "def multiply(number1, number2):  # multiplies number1 and number2\n",
    "    return number1 + 3"
   ]
  },
  {
   "cell_type": "markdown",
   "id": "fa764893-fe16-4c78-8e7f-495f8e698a54",
   "metadata": {},
   "source": [
    "Korriger funktionen i  den sidste celle og teste det med hjælp af den næste celle."
   ]
  },
  {
   "cell_type": "code",
   "execution_count": null,
   "id": "fe9b179c-5e1d-4419-9296-c1fecbcc6bec",
   "metadata": {},
   "outputs": [],
   "source": [
    "multiply(5, 4)  # result should be 20"
   ]
  },
  {
   "cell_type": "markdown",
   "id": "66c2e14b-b8fc-409b-82ea-8a2903d19ab0",
   "metadata": {},
   "source": [
    " I den næste celle, skrev en funktion med navnet \"sign\".   \n",
    " Funktionen får et argument \"number\" og returnerer  teksten \"positive\", \"null\" eller \"negative\", afhængig af argumentets fortegn.  "
   ]
  },
  {
   "cell_type": "code",
   "execution_count": null,
   "id": "3e6f05e2-6bf6-4ba7-8d02-985d994438db",
   "metadata": {},
   "outputs": [],
   "source": [
    "# Skrev din funktion herinde og udfør cellen\n"
   ]
  },
  {
   "cell_type": "code",
   "execution_count": null,
   "id": "946c287f-26f6-468b-8654-068fcab0e411",
   "metadata": {},
   "outputs": [],
   "source": [
    "# Udføre denne celle for at teste din funktion\n",
    "def check(test_number)\n",
    "    print(test_number, \"is\", sign(test_number))\n",
    "\n",
    "check(-6)\n",
    "check(44)\n",
    "check(0)"
   ]
  },
  {
   "cell_type": "code",
   "execution_count": null,
   "id": "4dc765f6-4425-4647-ac66-8ddecad20073",
   "metadata": {},
   "outputs": [],
   "source": [
    "def add(number1, number2=0, number3=0):  # Adds 3 numbers. The second and third argument is optional and has a default value.\n",
    "    print(number1 + number2 + number3)"
   ]
  },
  {
   "cell_type": "markdown",
   "id": "f0d5aca7-f647-4dcf-9962-76f22b67531d",
   "metadata": {},
   "source": [
    "Udfør den næste celle. Forstå fejlmeldinger. Udkommenter fejlagtige  kodelinjer."
   ]
  },
  {
   "cell_type": "code",
   "execution_count": null,
   "id": "4e1e0607-9189-4530-b8f4-174ac10673df",
   "metadata": {},
   "outputs": [],
   "source": [
    "add()\n",
    "add(5)\n",
    "add(3, 7)\n",
    "add(3, 7, 6)\n",
    "add(2, 6, 8, 10)"
   ]
  },
  {
   "cell_type": "markdown",
   "id": "35237d10-db7b-469c-98fb-75cc07b363f2",
   "metadata": {
    "tags": []
   },
   "source": [
    "##### [Læs afsnittet \"Loops in Python\"](https://www.freecodecamp.org/news/the-python-handbook/#loopsinpython)  "
   ]
  },
  {
   "cell_type": "markdown",
   "id": "629ac9fe-01d2-496c-a47b-739f1cbdc68b",
   "metadata": {},
   "source": [
    "Kig på programmet i den næste celle. Hvad tror du, gør den? Udfør koden. Forandre koden og prøv igen. Leg med den."
   ]
  },
  {
   "cell_type": "code",
   "execution_count": null,
   "id": "4f5ad39f-e586-4d44-a978-e1c85d970fec",
   "metadata": {},
   "outputs": [],
   "source": [
    "big_enough = False\n",
    "while not big_enough:\n",
    "    number = int(input(\"type a number\"))\n",
    "    big_enough = number > 12"
   ]
  },
  {
   "cell_type": "markdown",
   "id": "222781a3-d004-4591-86b7-46d0e0dedb3d",
   "metadata": {},
   "source": [
    " Forandre koden i den næste celle sådan at bare ulige tal udskrives."
   ]
  },
  {
   "cell_type": "code",
   "execution_count": null,
   "id": "4ee02809-687f-4b2e-80d4-609ceea0f4f8",
   "metadata": {},
   "outputs": [],
   "source": [
    "numberlist = [7, 33, 2, 8]\n",
    "for number in numberlist:\n",
    "    print(number)"
   ]
  },
  {
   "cell_type": "markdown",
   "id": "463401fa-774c-4ec2-9815-d61ebefb6d3d",
   "metadata": {},
   "source": [
    " Forandre koden i den næste celle sådan at ved siden af hvert tal udskrives også dens kvadrattal."
   ]
  },
  {
   "cell_type": "code",
   "execution_count": null,
   "id": "13d99879-767f-4f17-8f20-9c5cf2fa4192",
   "metadata": {},
   "outputs": [],
   "source": [
    "numberrange = range(5)\n",
    "for number in numberrange:\n",
    "    print(number)"
   ]
  },
  {
   "cell_type": "markdown",
   "id": "69f49e82-8dee-4eb6-8546-f530af5c5501",
   "metadata": {},
   "source": [
    "Send denne tekst som Teams-besked til læreren:  Jeg er færdig med S0040."
   ]
  }
 ],
 "metadata": {
  "kernelspec": {
   "display_name": "Python 3 (ipykernel)",
   "language": "python",
   "name": "python3"
  },
  "language_info": {
   "codemirror_mode": {
    "name": "ipython",
    "version": 3
   },
   "file_extension": ".py",
   "mimetype": "text/x-python",
   "name": "python",
   "nbconvert_exporter": "python",
   "pygments_lexer": "ipython3",
   "version": "3.10.7"
  }
 },
 "nbformat": 4,
 "nbformat_minor": 5
}
