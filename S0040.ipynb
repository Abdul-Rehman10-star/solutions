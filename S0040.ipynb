{
 "cells": [
  {
   "cell_type": "markdown",
   "id": "03fbec3e-7c5b-4e64-8a0b-5128293d4932",
   "metadata": {},
   "source": [
    "### Functions, Objects and Loops"
   ]
  },
  {
   "cell_type": "markdown",
   "id": "94730daf-cdd8-408e-a867-948237d4fba0",
   "metadata": {
    "tags": []
   },
   "source": [
    "##### [Læs afsnittet \"Functions in Python\"](https://www.freecodecamp.org/news/the-python-handbook/#functionsinpython)  "
   ]
  },
  {
   "cell_type": "code",
   "execution_count": null,
   "id": "7655abdf-0d15-454a-98f5-06a978577f17",
   "metadata": {},
   "outputs": [],
   "source": []
  },
  {
   "cell_type": "code",
   "execution_count": 1,
   "id": "712d0d66-5e4a-4c0f-812f-e7f5a4b7e1e3",
   "metadata": {},
   "outputs": [
    {
     "name": "stdout",
     "output_type": "stream",
     "text": [
      "hello world\n"
     ]
    },
    {
     "name": "stdin",
     "output_type": "stream",
     "text": [
      "click into the console window, then type something and press <return>:   bnnfng\n"
     ]
    },
    {
     "name": "stdout",
     "output_type": "stream",
     "text": [
      "You typed: bnnfng\n"
     ]
    }
   ],
   "source": [
    "def hello():\n",
    "    print(\"hello world\")\n",
    "\n",
    "\n",
    "def type_something():\n",
    "    user_input = input(\"click into the console window, then type something and press <return>:  \")\n",
    "    print(\"You typed: \" + user_input)\n",
    "\n",
    "\n",
    "def my_first_function():\n",
    "    pass\n",
    "\n",
    "\n",
    "hello()\n",
    "type_something()\n",
    "my_first_function()"
   ]
  },
  {
   "cell_type": "markdown",
   "id": "9bc9b785-935e-4f9b-8c77-dd1dbc548569",
   "metadata": {
    "tags": []
   },
   "source": [
    "##### [Læs afsnittet \"Objects in Python\"](https://www.freecodecamp.org/news/the-python-handbook/#objectsinpython)  "
   ]
  },
  {
   "cell_type": "code",
   "execution_count": null,
   "id": "59d8767e-8334-498c-9100-3b3bf411e3c3",
   "metadata": {},
   "outputs": [],
   "source": []
  },
  {
   "cell_type": "markdown",
   "id": "35237d10-db7b-469c-98fb-75cc07b363f2",
   "metadata": {
    "tags": []
   },
   "source": [
    "##### [Læs afsnittet \"Loops in Python\"](https://www.freecodecamp.org/news/the-python-handbook/#loopsinpython)  "
   ]
  },
  {
   "cell_type": "code",
   "execution_count": null,
   "id": "4f5ad39f-e586-4d44-a978-e1c85d970fec",
   "metadata": {},
   "outputs": [],
   "source": []
  },
  {
   "cell_type": "code",
   "execution_count": null,
   "id": "4ee02809-687f-4b2e-80d4-609ceea0f4f8",
   "metadata": {},
   "outputs": [],
   "source": []
  },
  {
   "cell_type": "code",
   "execution_count": null,
   "id": "13d99879-767f-4f17-8f20-9c5cf2fa4192",
   "metadata": {},
   "outputs": [],
   "source": []
  },
  {
   "cell_type": "code",
   "execution_count": null,
   "id": "67098bbb-916d-44e7-9c2b-48db28b6f8e0",
   "metadata": {},
   "outputs": [],
   "source": []
  },
  {
   "cell_type": "code",
   "execution_count": null,
   "id": "f7b27916-01a9-4ab2-a343-7a351d9e45ee",
   "metadata": {},
   "outputs": [],
   "source": []
  },
  {
   "cell_type": "markdown",
   "id": "69f49e82-8dee-4eb6-8546-f530af5c5501",
   "metadata": {},
   "source": [
    "Send denne tekst som Teams-besked til læreren:  Jeg er færdig med S0040."
   ]
  }
 ],
 "metadata": {
  "kernelspec": {
   "display_name": "Python 3 (ipykernel)",
   "language": "python",
   "name": "python3"
  },
  "language_info": {
   "codemirror_mode": {
    "name": "ipython",
    "version": 3
   },
   "file_extension": ".py",
   "mimetype": "text/x-python",
   "name": "python",
   "nbconvert_exporter": "python",
   "pygments_lexer": "ipython3",
   "version": "3.10.7"
  }
 },
 "nbformat": 4,
 "nbformat_minor": 5
}
