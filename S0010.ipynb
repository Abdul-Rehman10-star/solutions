{
 "cells": [
  {
   "cell_type": "markdown",
   "id": "c0400477-8237-44fc-a6e4-711b35ac9729",
   "metadata": {},
   "source": [
    "Klik på den næste celle og tryk så Ctrl+Enter for at udføre koden i cellen."
   ]
  },
  {
   "cell_type": "code",
   "execution_count": null,
   "id": "2e9843e0-cdc6-4a10-a1cc-81a07f91ea0c",
   "metadata": {},
   "outputs": [],
   "source": [
    "print(\"hello world\")"
   ]
  },
  {
   "cell_type": "markdown",
   "id": "a7829e39-3751-493e-be90-cd58019aefa8",
   "metadata": {},
   "source": [
    "Tillykke, du har udført  dit første python script :)  \n",
    "Klik på den næste celle og forandre teksten. Derefter udføre koden i cellen."
   ]
  },
  {
   "cell_type": "code",
   "execution_count": null,
   "id": "80f685f3-f53d-4344-a33b-23f518704b90",
   "metadata": {},
   "outputs": [],
   "source": [
    "print(\"hello world\")"
   ]
  },
  {
   "cell_type": "markdown",
   "id": "3a749d02-a80a-4de0-9516-521e64b71907",
   "metadata": {},
   "source": [
    "##### [Læs afsnit \"Python Basics\"](https://www.freecodecamp.org/news/the-python-handbook/#pythonbasics)  \n",
    "(Læs bare til overskriften \"Data Types in Python\". Der begynder den næste afsnit.)  \n",
    "Udfør den næste celle. Der opstår en fejl. Hvorfor? \"Udkommenter\" den fejlagtige kodelinje  idet du sætter en # foran den.  Udfør cellen igen."
   ]
  },
  {
   "cell_type": "code",
   "execution_count": null,
   "id": "84ae8800-9473-4306-b2f6-6cda44fe5df5",
   "metadata": {},
   "outputs": [],
   "source": [
    "u7 = 6.87  # Cifre er ok. Men ikke som variablenavnens første symbol.\n",
    "øøø = \"test\"  # Tilladt. Men bruge alligevel bare de 26 engelske standard bogstaver.\n",
    "4forbudt = 3  # Forbudt.\n",
    "Dont_do_this = 2  # Brug ikke store bogstaver i variablenavne\n",
    "AbsolutelyDontDoThis = 5  # Brug heller ikke CamelCase i variablenavne\n",
    "# Det er en konvention (god programmeringsskik) i Python, ikke at benytte store bogstaver i variablenavne.\n",
    "print(\"Success!\")"
   ]
  },
  {
   "cell_type": "markdown",
   "id": "988ed172-ebab-4816-b6e0-9bc8e14b191a",
   "metadata": {},
   "source": [
    "Udfør den næste celle. Der også her opstår en fejl. Udkommenter den fejlagtige kodelinje og udfør cellen igen."
   ]
  },
  {
   "cell_type": "code",
   "execution_count": null,
   "id": "e2f32b34-1415-4835-b832-023f36bfcd38",
   "metadata": {},
   "outputs": [],
   "source": [
    "x1234 = 'hello'\n",
    "class = 17\n",
    "x_x = 6.23\n",
    "print(\"Hurra!\")"
   ]
  },
  {
   "cell_type": "markdown",
   "id": "ac3e4e7b-113b-4cff-a121-98813c17864f",
   "metadata": {},
   "source": [
    "##### [Læs afsnit \"Data Types in Python\"](https://www.freecodecamp.org/news/the-python-handbook/#datatypesinpython)  \n"
   ]
  },
  {
   "cell_type": "code",
   "execution_count": null,
   "id": "d5e31978-3db9-4b36-8905-64db8f27b3ed",
   "metadata": {},
   "outputs": [],
   "source": [
    "def hello():\n",
    "    print(\"hello world\")\n",
    "\n",
    "\n",
    "def type_something():\n",
    "    user_input = input(\"click into the console window, then type something and press <return>:  \")\n",
    "    print(\"You typed: \" + user_input)\n",
    "\n",
    "\n",
    "def my_first_function():\n",
    "    pass\n",
    "\n",
    "\n",
    "hello()\n",
    "type_something()\n",
    "my_first_function()\n",
    "\n"
   ]
  }
 ],
 "metadata": {
  "kernelspec": {
   "display_name": "Python 3 (ipykernel)",
   "language": "python",
   "name": "python3"
  },
  "language_info": {
   "codemirror_mode": {
    "name": "ipython",
    "version": 3
   },
   "file_extension": ".py",
   "mimetype": "text/x-python",
   "name": "python",
   "nbconvert_exporter": "python",
   "pygments_lexer": "ipython3",
   "version": "3.10.8"
  },
  "toc-autonumbering": false,
  "toc-showcode": false,
  "toc-showmarkdowntxt": false,
  "toc-showtags": false
 },
 "nbformat": 4,
 "nbformat_minor": 5
}
