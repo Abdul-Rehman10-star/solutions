{
 "cells": [
  {
   "cell_type": "markdown",
   "source": [
    "# Introduktion til Python hos AspIT"
   ],
   "metadata": {
    "collapsed": false
   },
   "id": "6fcab83b935b7045"
  },
  {
   "cell_type": "markdown",
   "source": [
    "Klik på linkene for at arbejde med de første programmeringsopgaver."
   ],
   "metadata": {
    "collapsed": false
   },
   "id": "8ca33be035211e35"
  },
  {
   "cell_type": "markdown",
   "source": [
    "[Python Basics, del 1](https://colab.research.google.com/github/lichtgestalter/AspIT_Python/blob/master/01_basics/S0010_basics.ipynb)\n",
    "\n",
    "[Python Basics, del 2](https://colab.research.google.com/github/lichtgestalter/AspIT_Python/blob/master/01_basics/S0020_basics.ipynb)\n",
    "\n",
    "[Python Basics, del 3](https://colab.research.google.com/github/lichtgestalter/AspIT_Python/blob/master/01_basics/S0030_basics.ipynb)\n",
    "\n",
    "[Python Basics, del 4](https://colab.research.google.com/github/lichtgestalter/AspIT_Python/blob/master/01_basics/S0040_basics.ipynb)\n"
   ],
   "metadata": {
    "collapsed": false
   },
   "id": "2506166599678699"
  },
  {
   "cell_type": "markdown",
   "source": [
    "\n",
    "\n",
    "\n",
    "Her kan du se indholdsfortegnelsen for modulerne med programmering i Python.\n",
    "Du har allerede løst en store del af det første kapitel, hvis du har løst opgaverne ovenfor."
   ],
   "metadata": {
    "collapsed": false
   },
   "id": "6d582f9992a3d6d8"
  },
  {
   "cell_type": "markdown",
   "source": [
    "[Programmering hos AspIT (Indholdsfortegnelse)](https://colab.research.google.com/github/lichtgestalter/AspIT_Python/blob/master/01_basics/S0008_content.ipynb)\n"
   ],
   "metadata": {
    "collapsed": false
   },
   "id": "d2b50491fb21f1f1"
  }
 ],
 "metadata": {
  "kernelspec": {
   "display_name": "Python 3 (ipykernel)",
   "language": "python",
   "name": "python3"
  },
  "language_info": {
   "codemirror_mode": {
    "name": "ipython",
    "version": 3
   },
   "file_extension": ".py",
   "mimetype": "text/x-python",
   "name": "python",
   "nbconvert_exporter": "python",
   "pygments_lexer": "ipython3",
   "version": "3.10.7"
  }
 },
 "nbformat": 4,
 "nbformat_minor": 5
}
