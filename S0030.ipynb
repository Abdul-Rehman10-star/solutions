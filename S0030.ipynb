{
 "cells": [
  {
   "cell_type": "markdown",
   "id": "03fbec3e-7c5b-4e64-8a0b-5128293d4932",
   "metadata": {},
   "source": [
    "### Lists, Tuples, Dictionaries and Sets"
   ]
  },
  {
   "cell_type": "markdown",
   "id": "94730daf-cdd8-408e-a867-948237d4fba0",
   "metadata": {
    "tags": []
   },
   "source": [
    "##### [Læs afsnittet \"Lists in Python\"](https://www.freecodecamp.org/news/the-python-handbook/#listsinpython)  "
   ]
  },
  {
   "cell_type": "code",
   "execution_count": 1,
   "id": "5c1e543d-3070-4b58-ab3d-1914c411ac83",
   "metadata": {},
   "outputs": [],
   "source": [
    "numbers = [5, -2, 4, 17]"
   ]
  },
  {
   "cell_type": "markdown",
   "id": "dc38709c-551e-4ac0-a0a2-c1df27e5b1f8",
   "metadata": {},
   "source": [
    "Udfør de næste celler en ad gangen. Før du udfører en celle, regn resultatet ud på forhånd. Når du får et uventet resultat, forstår hvorfor.\n",
    "Leg gerne med cellerne. Forandre dem og udfør dem igen. Du kan også tilføje nye celler."
   ]
  },
  {
   "cell_type": "code",
   "execution_count": 2,
   "id": "29dc7307-5328-4e87-ac35-077f995a226c",
   "metadata": {},
   "outputs": [
    {
     "data": {
      "text/plain": [
       "list"
      ]
     },
     "execution_count": 2,
     "metadata": {},
     "output_type": "execute_result"
    }
   ],
   "source": [
    "type(numbers)"
   ]
  },
  {
   "cell_type": "code",
   "execution_count": 3,
   "id": "e5b706e2-11dc-42c3-962b-2d823364f97c",
   "metadata": {},
   "outputs": [
    {
     "data": {
      "text/plain": [
       "4"
      ]
     },
     "execution_count": 3,
     "metadata": {},
     "output_type": "execute_result"
    }
   ],
   "source": [
    "len(numbers)"
   ]
  },
  {
   "cell_type": "code",
   "execution_count": 4,
   "id": "7535c160-b104-46e6-be63-4973c2fbac3a",
   "metadata": {},
   "outputs": [
    {
     "data": {
      "text/plain": [
       "True"
      ]
     },
     "execution_count": 4,
     "metadata": {},
     "output_type": "execute_result"
    }
   ],
   "source": [
    "17 in numbers"
   ]
  },
  {
   "cell_type": "code",
   "execution_count": 5,
   "id": "ec5929d7-d6bb-45b4-a6ee-f83d2285a8f3",
   "metadata": {},
   "outputs": [
    {
     "data": {
      "text/plain": [
       "False"
      ]
     },
     "execution_count": 5,
     "metadata": {},
     "output_type": "execute_result"
    }
   ],
   "source": [
    "2 in numbers"
   ]
  },
  {
   "cell_type": "code",
   "execution_count": 6,
   "id": "c56c6491-b5c6-44d4-bcab-b7f28fd27e72",
   "metadata": {},
   "outputs": [
    {
     "data": {
      "text/plain": [
       "5"
      ]
     },
     "execution_count": 6,
     "metadata": {},
     "output_type": "execute_result"
    }
   ],
   "source": [
    "numbers[0]"
   ]
  },
  {
   "cell_type": "code",
   "execution_count": 7,
   "id": "e470b330-56d9-4d36-8043-04712e1986ed",
   "metadata": {},
   "outputs": [
    {
     "data": {
      "text/plain": [
       "17"
      ]
     },
     "execution_count": 7,
     "metadata": {},
     "output_type": "execute_result"
    }
   ],
   "source": [
    "numbers[3]"
   ]
  },
  {
   "cell_type": "code",
   "execution_count": 8,
   "id": "6da378c2-9c96-41cc-a736-8d8408f7f432",
   "metadata": {},
   "outputs": [
    {
     "data": {
      "text/plain": [
       "17"
      ]
     },
     "execution_count": 8,
     "metadata": {},
     "output_type": "execute_result"
    }
   ],
   "source": [
    "numbers[-1]"
   ]
  },
  {
   "cell_type": "code",
   "execution_count": 9,
   "id": "38fdcae1-0747-443f-8f9d-267211932f17",
   "metadata": {},
   "outputs": [
    {
     "data": {
      "text/plain": [
       "[5, -2]"
      ]
     },
     "execution_count": 9,
     "metadata": {},
     "output_type": "execute_result"
    }
   ],
   "source": [
    "numbers[:2]"
   ]
  },
  {
   "cell_type": "code",
   "execution_count": 10,
   "id": "1a02b79f-a61a-4f24-b035-bc9757198bee",
   "metadata": {},
   "outputs": [
    {
     "data": {
      "text/plain": [
       "[4, 17]"
      ]
     },
     "execution_count": 10,
     "metadata": {},
     "output_type": "execute_result"
    }
   ],
   "source": [
    "numbers[2:]"
   ]
  },
  {
   "cell_type": "code",
   "execution_count": 11,
   "id": "ca748d7a-2bf9-4128-8e44-6302260b91a5",
   "metadata": {},
   "outputs": [
    {
     "data": {
      "text/plain": [
       "[5, -2, 4, 17, 9, 5]"
      ]
     },
     "execution_count": 11,
     "metadata": {},
     "output_type": "execute_result"
    }
   ],
   "source": [
    "numbers.append(9)\n",
    "numbers.append(5)\n",
    "numbers"
   ]
  },
  {
   "cell_type": "code",
   "execution_count": 12,
   "id": "dd26db4c-0bb5-44f5-8a19-673784327c13",
   "metadata": {},
   "outputs": [
    {
     "data": {
      "text/plain": [
       "[4, 17, 9, 5]"
      ]
     },
     "execution_count": 12,
     "metadata": {},
     "output_type": "execute_result"
    }
   ],
   "source": [
    "numbers[2:]"
   ]
  },
  {
   "cell_type": "code",
   "execution_count": 13,
   "id": "6fa91586-87f0-44c7-8582-579e7da902c4",
   "metadata": {},
   "outputs": [
    {
     "data": {
      "text/plain": [
       "6"
      ]
     },
     "execution_count": 13,
     "metadata": {},
     "output_type": "execute_result"
    }
   ],
   "source": [
    "len(numbers)"
   ]
  },
  {
   "cell_type": "code",
   "execution_count": 14,
   "id": "0f9ab272-b57c-4295-af87-20b5b21de56d",
   "metadata": {},
   "outputs": [
    {
     "data": {
      "text/plain": [
       "[-2, 4, 5, 5, 9, 17]"
      ]
     },
     "execution_count": 14,
     "metadata": {},
     "output_type": "execute_result"
    }
   ],
   "source": [
    "sorted(numbers)"
   ]
  },
  {
   "cell_type": "code",
   "execution_count": 15,
   "id": "27f09566-5cf7-4085-bc0f-e342e1c3b48b",
   "metadata": {},
   "outputs": [
    {
     "data": {
      "text/plain": [
       "[5, -2, 4, 17, 9, 5]"
      ]
     },
     "execution_count": 15,
     "metadata": {},
     "output_type": "execute_result"
    }
   ],
   "source": [
    "numbers"
   ]
  },
  {
   "cell_type": "code",
   "execution_count": 16,
   "id": "06524276-72bc-4937-aaa2-8348993d98ec",
   "metadata": {},
   "outputs": [
    {
     "data": {
      "text/plain": [
       "[-2, 4, 5, 5, 9, 17]"
      ]
     },
     "execution_count": 16,
     "metadata": {},
     "output_type": "execute_result"
    }
   ],
   "source": [
    "numbers.sort()\n",
    "numbers"
   ]
  },
  {
   "cell_type": "code",
   "execution_count": 17,
   "id": "fc657bbc-a469-4176-8683-694da994b5e6",
   "metadata": {},
   "outputs": [
    {
     "data": {
      "text/plain": [
       "[-2, 4, 5, 5, 9, 17]"
      ]
     },
     "execution_count": 17,
     "metadata": {},
     "output_type": "execute_result"
    }
   ],
   "source": [
    "numbers"
   ]
  },
  {
   "cell_type": "markdown",
   "id": "7e5d1571-55f2-44c8-b800-bd208464020d",
   "metadata": {},
   "source": [
    "Tilføj kode til de følgende celler, sådan at resultat bliver den udtryk i kommentaren."
   ]
  },
  {
   "cell_type": "code",
   "execution_count": 18,
   "id": "f3c974bb-21c8-4937-9938-277d320614bc",
   "metadata": {},
   "outputs": [
    {
     "ename": "SyntaxError",
     "evalue": "invalid syntax (Temp/ipykernel_15292/3294981574.py, line 1)",
     "output_type": "error",
     "traceback": [
      "\u001b[1;36m  File \u001b[1;32m\"C:\\Users\\U\\AppData\\Local\\Temp/ipykernel_15292/3294981574.py\"\u001b[1;36m, line \u001b[1;32m1\u001b[0m\n\u001b[1;33m    numbers[]  # 4\u001b[0m\n\u001b[1;37m            ^\u001b[0m\n\u001b[1;31mSyntaxError\u001b[0m\u001b[1;31m:\u001b[0m invalid syntax\n"
     ]
    }
   ],
   "source": [
    "numbers[]  # 4"
   ]
  },
  {
   "cell_type": "code",
   "execution_count": null,
   "id": "11645ba2-3916-40a6-a38f-cd768cd6d919",
   "metadata": {},
   "outputs": [],
   "source": [
    "numbers[]  # 17"
   ]
  },
  {
   "cell_type": "code",
   "execution_count": null,
   "id": "5e442f0d-1164-48cb-a9d7-d58c9bd4ac31",
   "metadata": {},
   "outputs": [],
   "source": [
    "numbers[]  # [5, 5]"
   ]
  },
  {
   "cell_type": "code",
   "execution_count": null,
   "id": "f5c5502e-8802-424e-a2d6-a43476b09417",
   "metadata": {},
   "outputs": [],
   "source": [
    "numbers[]  # [5, 9, 17]"
   ]
  },
  {
   "cell_type": "code",
   "execution_count": null,
   "id": "0d163598-b78d-4da0-a0c8-6b4087c71b57",
   "metadata": {},
   "outputs": [],
   "source": [
    "numbers\n",
    "numbers  # [-2, 4, 5, 5, 9, 17, 3] "
   ]
  },
  {
   "cell_type": "markdown",
   "id": "9bc9b785-935e-4f9b-8c77-dd1dbc548569",
   "metadata": {
    "tags": []
   },
   "source": [
    "##### [Læs afsnittet \"Tuples in Python\"](https://www.freecodecamp.org/news/the-python-handbook/#tuplesinpython)  "
   ]
  },
  {
   "cell_type": "code",
   "execution_count": 19,
   "id": "59d8767e-8334-498c-9100-3b3bf411e3c3",
   "metadata": {},
   "outputs": [
    {
     "data": {
      "text/plain": [
       "(18, 22, 7)"
      ]
     },
     "execution_count": 19,
     "metadata": {},
     "output_type": "execute_result"
    }
   ],
   "source": [
    "number_tuple = (18, 22, 7)\n",
    "number_tuple"
   ]
  },
  {
   "cell_type": "markdown",
   "id": "84552a3f-be7b-4f1f-bf44-b3009c0aaf3d",
   "metadata": {},
   "source": [
    "Udfør de næste celler en ad gangen. Før du udfører en celle, regn resultatet ud på forhånd. Når du får et uventet resultat, forstår hvorfor.\n",
    "Leg gerne med cellerne. Forandre dem og udfør dem igen. Du kan også tilføje nye celler."
   ]
  },
  {
   "cell_type": "code",
   "execution_count": 20,
   "id": "d74a2ece-1542-4b9f-a8d7-8bc76e5fd30e",
   "metadata": {},
   "outputs": [
    {
     "data": {
      "text/plain": [
       "tuple"
      ]
     },
     "execution_count": 20,
     "metadata": {},
     "output_type": "execute_result"
    }
   ],
   "source": [
    "type(number_tuple)"
   ]
  },
  {
   "cell_type": "code",
   "execution_count": 21,
   "id": "b7e6d71a-efdf-41d6-922c-6852a47d1736",
   "metadata": {},
   "outputs": [
    {
     "data": {
      "text/plain": [
       "3"
      ]
     },
     "execution_count": 21,
     "metadata": {},
     "output_type": "execute_result"
    }
   ],
   "source": [
    "len(number_tuple)"
   ]
  },
  {
   "cell_type": "code",
   "execution_count": 22,
   "id": "cf558e3c-8176-4f91-946a-0d4e537ab4c7",
   "metadata": {},
   "outputs": [
    {
     "data": {
      "text/plain": [
       "18"
      ]
     },
     "execution_count": 22,
     "metadata": {},
     "output_type": "execute_result"
    }
   ],
   "source": [
    "x1 = number_tuple[0]\n",
    "x1"
   ]
  },
  {
   "cell_type": "code",
   "execution_count": 27,
   "id": "e06e15aa-c625-4e4d-a71e-a067aaafa0a0",
   "metadata": {},
   "outputs": [
    {
     "data": {
      "text/plain": [
       "True"
      ]
     },
     "execution_count": 27,
     "metadata": {},
     "output_type": "execute_result"
    }
   ],
   "source": [
    "22 in number_tuple"
   ]
  },
  {
   "cell_type": "code",
   "execution_count": 23,
   "id": "14d374c0-b114-43c1-bd2d-3ed72b4a2177",
   "metadata": {},
   "outputs": [
    {
     "data": {
      "text/plain": [
       "int"
      ]
     },
     "execution_count": 23,
     "metadata": {},
     "output_type": "execute_result"
    }
   ],
   "source": [
    "type(x1)"
   ]
  },
  {
   "cell_type": "code",
   "execution_count": 24,
   "id": "cb78ada4-31e2-4cac-9ba2-26ccd90ff04a",
   "metadata": {},
   "outputs": [
    {
     "data": {
      "text/plain": [
       "(18,)"
      ]
     },
     "execution_count": 24,
     "metadata": {},
     "output_type": "execute_result"
    }
   ],
   "source": [
    "x2 = number_tuple[0:1]\n",
    "x2"
   ]
  },
  {
   "cell_type": "code",
   "execution_count": 25,
   "id": "204d4141-5db4-43c1-a452-ddfa4244866d",
   "metadata": {},
   "outputs": [
    {
     "data": {
      "text/plain": [
       "tuple"
      ]
     },
     "execution_count": 25,
     "metadata": {},
     "output_type": "execute_result"
    }
   ],
   "source": [
    "type(x2)"
   ]
  },
  {
   "cell_type": "code",
   "execution_count": 26,
   "id": "a6755cf7-422b-45cd-888f-ac83eda76f27",
   "metadata": {},
   "outputs": [
    {
     "data": {
      "text/plain": [
       "(18, 22, 7, 18, 22, 7)"
      ]
     },
     "execution_count": 26,
     "metadata": {},
     "output_type": "execute_result"
    }
   ],
   "source": [
    "new_tuple = number_tuple + number_tuple\n",
    "new_tuple"
   ]
  },
  {
   "cell_type": "markdown",
   "id": "35237d10-db7b-469c-98fb-75cc07b363f2",
   "metadata": {
    "tags": []
   },
   "source": [
    "##### [Læs afsnittet \"Dictionaries in Python\"](https://www.freecodecamp.org/news/the-python-handbook/#dictionariesinpython)  "
   ]
  },
  {
   "cell_type": "code",
   "execution_count": null,
   "id": "4f5ad39f-e586-4d44-a978-e1c85d970fec",
   "metadata": {},
   "outputs": [],
   "source": [
    "keys()     values()     len()"
   ]
  },
  {
   "cell_type": "code",
   "execution_count": 30,
   "id": "e3046067-d655-4f20-a484-07e3cc39b2bd",
   "metadata": {},
   "outputs": [
    {
     "data": {
      "text/plain": [
       "{'name': 'Roger', 'age': 8}"
      ]
     },
     "execution_count": 30,
     "metadata": {},
     "output_type": "execute_result"
    }
   ],
   "source": [
    "dog = { 'name': 'Roger', 'age': 8 }\n",
    "dog"
   ]
  },
  {
   "cell_type": "code",
   "execution_count": 31,
   "id": "f80dcb87-a11a-4fee-a757-b3d1e7639058",
   "metadata": {},
   "outputs": [
    {
     "data": {
      "text/plain": [
       "{'name': 'Roger', 'age': 8, 'favorite food': 'Meat'}"
      ]
     },
     "execution_count": 31,
     "metadata": {},
     "output_type": "execute_result"
    }
   ],
   "source": [
    "dog['favorite food'] = 'Meat'\n",
    "dog"
   ]
  },
  {
   "cell_type": "markdown",
   "id": "aa526764-9708-4aee-9800-22b34756a9e3",
   "metadata": {
    "tags": []
   },
   "source": [
    "##### [Læs afsnittet \"Sets in Python\"](https://www.freecodecamp.org/news/the-python-handbook/#setsinpython)  "
   ]
  },
  {
   "cell_type": "code",
   "execution_count": null,
   "id": "4ee02809-687f-4b2e-80d4-609ceea0f4f8",
   "metadata": {},
   "outputs": [],
   "source": []
  },
  {
   "cell_type": "code",
   "execution_count": null,
   "id": "13d99879-767f-4f17-8f20-9c5cf2fa4192",
   "metadata": {},
   "outputs": [],
   "source": []
  },
  {
   "cell_type": "code",
   "execution_count": null,
   "id": "67098bbb-916d-44e7-9c2b-48db28b6f8e0",
   "metadata": {},
   "outputs": [],
   "source": []
  },
  {
   "cell_type": "code",
   "execution_count": null,
   "id": "f7b27916-01a9-4ab2-a343-7a351d9e45ee",
   "metadata": {},
   "outputs": [],
   "source": []
  },
  {
   "cell_type": "markdown",
   "id": "69f49e82-8dee-4eb6-8546-f530af5c5501",
   "metadata": {},
   "source": [
    "Send denne tekst som Teams-besked til læreren:  Jeg er færdig med S0030."
   ]
  }
 ],
 "metadata": {
  "kernelspec": {
   "display_name": "Python 3 (ipykernel)",
   "language": "python",
   "name": "python3"
  },
  "language_info": {
   "codemirror_mode": {
    "name": "ipython",
    "version": 3
   },
   "file_extension": ".py",
   "mimetype": "text/x-python",
   "name": "python",
   "nbconvert_exporter": "python",
   "pygments_lexer": "ipython3",
   "version": "3.10.8"
  }
 },
 "nbformat": 4,
 "nbformat_minor": 5
}
