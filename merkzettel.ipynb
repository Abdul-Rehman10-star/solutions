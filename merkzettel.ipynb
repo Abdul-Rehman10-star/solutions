{
 "cells": [
  {
   "cell_type": "markdown",
   "metadata": {},
   "source": [
    "### pycharm short cuts"
   ]
  },
  {
   "cell_type": "raw",
   "metadata": {},
   "source": [
    "https://www.jetbrains.com/help/idea/mastering-keyboard-shortcuts.html\n",
    "\n",
    "Alt+Down/Up: Zeile(n) nach unten/oben\n",
    "Strg+Einfg: Zeile einfügen  (Shift+Enter auch)\n",
    "Strg+Entf: Zeile löschen\n",
    "Strg+Space: Zeile markieren (überflüssig. macht Strg+C sowieso, wenn nix markiert ist)\n",
    "Strg+D : Zeile duplizieren\n",
    "Strg+Shift+J: Join lines\n",
    "Alt+Shift+Mausziehen : Rechteckige Selektion\n",
    "Strg+W bzw. Strg+Shift+W: Erweitere bzw. reduziere Markierung\n",
    "Strg+Shift+Minus: Klappe alle Funktionen zu\n",
    "\n",
    "Shift+F6: Refactor (Namen ändern)\n",
    "Strg+Shift+A: Suche Befehle nach Namen\n",
    "Doppel-Shift: Search Everywhere (Suche irgendwas)\n",
    "Strg+Alt+S: Settings\n",
    "Strg+B: gehe zur Deklaration / zeige Usages\n",
    "Strg+Alt+Shift+F8: Remove all Breakpoints\n",
    "\n",
    "Pause bzw. Strg+Pause: PySimpleGUI-Debugger"
   ]
  },
  {
   "cell_type": "markdown",
   "metadata": {},
   "source": [
    "### For loop mit 2 Iteratoren"
   ]
  },
  {
   "cell_type": "code",
   "execution_count": 3,
   "metadata": {},
   "outputs": [
    {
     "name": "stdout",
     "output_type": "stream",
     "text": [
      "4 + a   5 + b   6 + c   "
     ]
    }
   ],
   "source": [
    "for i, j in zip(range(4,23), \"abc\"):\n",
    "    print(i, \"+\", j, \"  \", end=\"\")"
   ]
  },
  {
   "cell_type": "markdown",
   "metadata": {},
   "source": [
    "###  In for loop: Änderung des Iterators ändert NICHT die Sequenz. Das geht nur mit enumerate!"
   ]
  },
  {
   "cell_type": "code",
   "execution_count": 2,
   "metadata": {},
   "outputs": [
    {
     "name": "stdout",
     "output_type": "stream",
     "text": [
      "['aaa', 'bbb', 'ccc']\n",
      "aaa\n",
      "aaax\n",
      "bbb\n",
      "bbbx\n",
      "ccc\n",
      "cccx\n",
      "['aaa', 'bbb', 'ccc']\n",
      "['aaax', 'bbbx', 'cccx']\n"
     ]
    }
   ],
   "source": [
    "def interations_stub():\n",
    "    sequenz = [\"aaa\", \"bbb\", \"ccc\"]\n",
    "    print(sequenz)\n",
    "    for iterator in sequenz:\n",
    "        print(iterator)\n",
    "        iterator = iterator + \"x\"  # Verändert nur iterator, aber NICHT das Element von sequenz, das iterator hier repräsentiert!\n",
    "        print(iterator)\n",
    "    print(sequenz)\n",
    "    for i, iterator in enumerate(sequenz):\n",
    "        sequenz[i] = sequenz[i] + \"x\"  # Verändert das Element von sequenz!\n",
    "    print(sequenz)\n",
    "interations_stub()"
   ]
  },
  {
   "cell_type": "markdown",
   "metadata": {},
   "source": [
    "### String Formatierung: f-Strings"
   ]
  },
  {
   "cell_type": "code",
   "execution_count": 3,
   "metadata": {},
   "outputs": [
    {
     "name": "stdout",
     "output_type": "stream",
     "text": [
      "Hello, Eric. You are 74.\n",
      "eric idle is funny. 14\n",
      "Feldbreite und Nachkommastellen festlegen:    12.3457\n",
      "\n",
      "a: 7, b: 7, c: 7, d: 7, e: 7 f-String, aber unelegant.\n",
      "a=7 b=7 c=7 d=7 e=7 Sehr elegant durch Nutzung der Gleichzeichen!\n",
      "age * value / 12.1 = 75.50249905785124 Sogar beliebige Ausdrücke und z.B. Leerzeichen können durch Setzen des Gleichzeichens angezeigt werden.\n"
     ]
    }
   ],
   "source": [
    "name = \"Eric\"\n",
    "age = 74\n",
    "print(f'Hello, {name}. You are {age}.')\n",
    "\n",
    "# Funktionen können im F-String ausgeführt werden:\n",
    "print(f'{name.lower()+\" idle\"} is funny. {2*3+8}')  \n",
    "# Anführungszeichen ganz außen müssen andere sein als innen.\n",
    "# Ulis Konvention: f-Strings ganz außen immer ' und drinnen immmer \"\n",
    "\n",
    "width = 10\n",
    "precision = 4\n",
    "value = 12.3456789\n",
    "print(f'Feldbreite und Nachkommastellen festlegen: {value:{width}.{precision}f}')  # nested fields\n",
    "\n",
    "a = b = c = d = e = 7\n",
    "print(f'\\na: {a}, b: {b}, c: {c}, d: {d}, e: {e} f-String, aber unelegant.')\n",
    "print(f'{a=} {b=} {c=} {d=} {e=} Sehr elegant durch Nutzung der Gleichzeichen!')\n",
    "print(f'{age * value / 12.1 = } Sogar beliebige Ausdrücke und z.B. Leerzeichen können durch Setzen des Gleichzeichens angezeigt werden.') \n"
   ]
  },
  {
   "cell_type": "markdown",
   "metadata": {},
   "source": [
    "### Deepcopy"
   ]
  },
  {
   "cell_type": "code",
   "execution_count": 4,
   "metadata": {},
   "outputs": [],
   "source": [
    "from copy import deepcopy\n",
    "\n",
    "class Dummy:\n",
    "    pass\n",
    "\n",
    "def deepcopy_stub():\n",
    "    a1 = [10, 20, 30]\n",
    "    a2 = [1, 2, 3]\n",
    "    aa = [a1, a2]\n",
    "    bb = deepcopy(aa)\n",
    "    aa[0][0] = 77\n",
    "    bb[0][0] = 88\n",
    "    print(aa)\n",
    "    print(bb)\n",
    "\n",
    "    q1 = Dummy()\n",
    "    print(q1)\n",
    "    q1.teama=\"q1team\"\n",
    "    print(q1)\n",
    "    q2 = deepcopy(q1)\n",
    "    print(q2)\n",
    "    q2.teama=\"q2team\"\n",
    "    print(q1)\n",
    "    print(q2)"
   ]
  },
  {
   "cell_type": "markdown",
   "metadata": {},
   "source": [
    "###  Klasse aus Parameter ermitteln und dann damit ein neues Klassenelement initialisieren"
   ]
  },
  {
   "cell_type": "code",
   "execution_count": 5,
   "metadata": {},
   "outputs": [],
   "source": [
    "def klasse_aus_parameter_stub(klassenelement):\n",
    "    Klasse = type(klassenelement)\n",
    "    print(Klasse)\n",
    "    k = Klasse()\n",
    "    print(k)\n",
    "    print(type(k), \"\\n\\n\")"
   ]
  },
  {
   "cell_type": "markdown",
   "metadata": {},
   "source": [
    "####  Liste von Klassenelementen sortieren"
   ]
  },
  {
   "cell_type": "code",
   "execution_count": 6,
   "metadata": {},
   "outputs": [],
   "source": [
    "def sortier_stub():\n",
    "    q1 = Dummy()\n",
    "    q2 = Dummy()\n",
    "    dummies = [q1, q2]\n",
    "    dummies.sort(key=lambda x: x.teama, reverse=False)\n",
    "    \n",
    "    # Alternativ die Funktion __lt__(self, other) der Klasse überschreiben."
   ]
  },
  {
   "cell_type": "markdown",
   "metadata": {},
   "source": [
    "### Zeiten"
   ]
  },
  {
   "cell_type": "code",
   "execution_count": 7,
   "metadata": {},
   "outputs": [],
   "source": [
    "import time\n",
    "from datetime import datetime\n",
    "\n",
    "def zeiten_stub():\n",
    "    jetzt = time.time()\n",
    "    print(\"Sekunden seit 01.01.1970: \", jetzt)\n",
    "    lesbar = datetime.fromtimestamp(jetzt, tz=None)\n",
    "    print(\"Umwandlung in lesbares Datumsformat: \", lesbar)"
   ]
  },
  {
   "cell_type": "markdown",
   "metadata": {},
   "source": [
    "###  JSON"
   ]
  },
  {
   "cell_type": "code",
   "execution_count": 8,
   "metadata": {},
   "outputs": [],
   "source": [
    "import json\n",
    "def json_stub():\n",
    "    # Be sure to remember to invoke json.loads() on the contents of the file, as opposed to the file path of that JSON:\n",
    "    jsonfile = \"Daten/1800.json\"\n",
    "    with open(jsonfile, 'r') as f:\n",
    "        dic = json.loads(f.read())"
   ]
  },
  {
   "cell_type": "markdown",
   "metadata": {},
   "source": [
    "###  Encodingprobleme lösen"
   ]
  },
  {
   "cell_type": "code",
   "execution_count": 9,
   "metadata": {},
   "outputs": [],
   "source": [
    "import chardet\n",
    "def encoding_probleme_loesen():\n",
    "    with open(\"problematische_datei.csv\", 'rb') as rawdata:  # look at the first ten thousand bytes to guess the character encoding\n",
    "        result = chardet.detect(rawdata.read(10000))\n",
    "    print(result)  # check what the character encoding might be\n",
    "    endlich_lesbar = pd.read_csv(\"problematische_datei.csv\", encoding='Windows-1252')  # read in the file with the encoding detected by chardet"
   ]
  },
  {
   "cell_type": "markdown",
   "metadata": {},
   "source": [
    "### If am Ende"
   ]
  },
  {
   "cell_type": "code",
   "execution_count": 10,
   "metadata": {},
   "outputs": [
    {
     "data": {
      "text/plain": [
       "'b'"
      ]
     },
     "execution_count": 10,
     "metadata": {},
     "output_type": "execute_result"
    }
   ],
   "source": [
    "x = \"a\" if 3 > 8 else \"b\"\n",
    "x"
   ]
  },
  {
   "cell_type": "markdown",
   "metadata": {},
   "source": [
    "## configparser: Parameter/Optionen aus einem File einlesen"
   ]
  },
  {
   "cell_type": "raw",
   "metadata": {},
   "source": [
    "# Beispiel-File configbeispiel.ini\n",
    "[DEFAULT]\n",
    "Def111 = yes #comment\n",
    "\n",
    "[Test1]\n",
    "TestOption1 = 1\n",
    "TestOption2 = 3.2\n",
    "\n",
    "[Test2]\n",
    "Option2leer =\n",
    "Option3 = 3.14"
   ]
  },
  {
   "cell_type": "code",
   "execution_count": 11,
   "metadata": {},
   "outputs": [
    {
     "data": {
      "text/plain": [
       "['Test1', 'Test2']"
      ]
     },
     "execution_count": 11,
     "metadata": {},
     "output_type": "execute_result"
    }
   ],
   "source": [
    "import configparser\n",
    "config = configparser.ConfigParser(inline_comment_prefixes='#')\n",
    "config.read('configbeispiel.ini')\n",
    "config.sections()"
   ]
  },
  {
   "cell_type": "code",
   "execution_count": 12,
   "metadata": {},
   "outputs": [
    {
     "data": {
      "text/plain": [
       "[('def111', 'yes'), ('testoption1', '1'), ('testoption2', '3.2')]"
      ]
     },
     "execution_count": 12,
     "metadata": {},
     "output_type": "execute_result"
    }
   ],
   "source": [
    "config.items(\"Test1\")"
   ]
  },
  {
   "cell_type": "code",
   "execution_count": 13,
   "metadata": {},
   "outputs": [
    {
     "data": {
      "text/plain": [
       "['testoption1', 'testoption2', 'def111']"
      ]
     },
     "execution_count": 13,
     "metadata": {},
     "output_type": "execute_result"
    }
   ],
   "source": [
    "config.options(\"Test1\")"
   ]
  },
  {
   "cell_type": "code",
   "execution_count": 14,
   "metadata": {},
   "outputs": [
    {
     "name": "stdout",
     "output_type": "stream",
     "text": [
      "Test1                testoption1          1                        1\n",
      "Test1                testoption2          3.2                      3\n",
      "Test1                def111               yes                      3\n",
      "Test2                option2leer                                   0\n",
      "Test2                option3              3.14                     4\n",
      "Test2                def111               yes                      3\n"
     ]
    }
   ],
   "source": [
    "for section in config.sections():\n",
    "    for option in config[section]:\n",
    "        print(f'{section:20} {option:20} {config[section][option]:20} {len(config[section][option]):5}')"
   ]
  },
  {
   "cell_type": "code",
   "execution_count": 15,
   "metadata": {},
   "outputs": [
    {
     "data": {
      "text/plain": [
       "'1'"
      ]
     },
     "execution_count": 15,
     "metadata": {},
     "output_type": "execute_result"
    }
   ],
   "source": [
    "config.get(\"Test1\", \"TestOption1\")"
   ]
  },
  {
   "cell_type": "code",
   "execution_count": 16,
   "metadata": {},
   "outputs": [
    {
     "data": {
      "text/plain": [
       "True"
      ]
     },
     "execution_count": 16,
     "metadata": {},
     "output_type": "execute_result"
    }
   ],
   "source": [
    "config.getboolean(\"Test1\", \"TestOption1\")"
   ]
  },
  {
   "cell_type": "code",
   "execution_count": 17,
   "metadata": {},
   "outputs": [
    {
     "data": {
      "text/plain": [
       "3.2"
      ]
     },
     "execution_count": 17,
     "metadata": {},
     "output_type": "execute_result"
    }
   ],
   "source": [
    "config.getfloat(\"Test1\", \"TestOption2\")"
   ]
  },
  {
   "cell_type": "code",
   "execution_count": 18,
   "metadata": {},
   "outputs": [
    {
     "data": {
      "text/plain": [
       "'FallbackWert1'"
      ]
     },
     "execution_count": 18,
     "metadata": {},
     "output_type": "execute_result"
    }
   ],
   "source": [
    "config.get(\"Test1\", \"OptionGibtEsNicht\", fallback=\"FallbackWert1\")"
   ]
  },
  {
   "cell_type": "code",
   "execution_count": 19,
   "metadata": {},
   "outputs": [
    {
     "data": {
      "text/plain": [
       "'FallbackWert2'"
      ]
     },
     "execution_count": 19,
     "metadata": {},
     "output_type": "execute_result"
    }
   ],
   "source": [
    "config.get(\"SectionGibtEsNicht\", \"OptionGibtEsNicht\", fallback=\"FallbackWert2\")"
   ]
  },
  {
   "cell_type": "markdown",
   "metadata": {},
   "source": [
    "### Performanceoptimierung, Laufzeitanalyse"
   ]
  },
  {
   "cell_type": "code",
   "execution_count": 2,
   "metadata": {},
   "outputs": [
    {
     "name": "stdout",
     "output_type": "stream",
     "text": [
      "         200005 function calls in 0.291 seconds\n",
      "\n",
      "   Ordered by: internal time\n",
      "\n",
      "   ncalls  tottime  percall  cumtime  percall filename:lineno(function)\n",
      "        1    0.225    0.225    0.225    0.225 C:\\Users\\U\\AppData\\Local\\Temp/ipykernel_8176/2890860678.py:1(test_np)\n",
      "        1    0.035    0.035    0.066    0.066 C:\\Users\\U\\AppData\\Local\\Temp/ipykernel_8176/2890860678.py:5(test_math)\n",
      "   100000    0.016    0.000    0.016    0.000 {built-in method math.sin}\n",
      "   100000    0.015    0.000    0.015    0.000 {built-in method math.sqrt}\n",
      "        1    0.000    0.000    0.000    0.000 C:\\Program Files\\Python310\\lib\\cProfile.py:117(__exit__)\n",
      "        1    0.000    0.000    0.291    0.291 C:\\Users\\U\\AppData\\Local\\Temp/ipykernel_8176/2890860678.py:9(test)\n",
      "        1    0.000    0.000    0.000    0.000 {method 'disable' of '_lsprof.Profiler' objects}\n",
      "\n",
      "\n"
     ]
    },
    {
     "data": {
      "text/plain": [
       "<pstats.Stats at 0x1ff50223c70>"
      ]
     },
     "execution_count": 2,
     "metadata": {},
     "output_type": "execute_result"
    }
   ],
   "source": [
    "def test_np():\n",
    "    for i in range(100000):\n",
    "        x = np.sqrt(i)*np.sin(i)\n",
    "        \n",
    "def test_math():\n",
    "    for i in range(100000):\n",
    "        x = math.sqrt(i)*math.sin(i)\n",
    "\n",
    "def test():\n",
    "    test_np()\n",
    "    test_math()\n",
    "\n",
    "import cProfile\n",
    "import pstats\n",
    "import math\n",
    "import numpy as np\n",
    "\n",
    "with cProfile.Profile() as pr:\n",
    "    test()\n",
    "stats = pstats.Stats(pr)\n",
    "stats.sort_stats(pstats.SortKey.TIME)\n",
    "stats.print_stats()\n",
    "# stats.dump_stats(filename='needs_profiling.prof')"
   ]
  },
  {
   "cell_type": "markdown",
   "metadata": {},
   "source": [
    "### Zuweisungen, Unpacking"
   ]
  },
  {
   "cell_type": "code",
   "execution_count": 22,
   "metadata": {},
   "outputs": [
    {
     "name": "stdout",
     "output_type": "stream",
     "text": [
      "a=1 b=[2, 3, 4, 5] c=6 d=7 e=8\n"
     ]
    }
   ],
   "source": [
    "shape1 = (\"abc\")   # ist ein String\n",
    "shape2 = (\"abc\",)   # ist ein Tupel\n",
    "\n",
    "a, _ = (\"brauch ich\", \"brauch ich nicht\")  # Underscore als Konvention für Wegwerfvariable\n",
    "a, *b, c, d, e = (1, 2, 3, 4, 5, 6, 7, 8)  # *-Operator for unpacking\n",
    "print(f'{a=} {b=} {c=} {d=} {e=}')"
   ]
  },
  {
   "cell_type": "markdown",
   "metadata": {},
   "source": [
    "### Comprehension"
   ]
  },
  {
   "cell_type": "code",
   "execution_count": 23,
   "metadata": {},
   "outputs": [
    {
     "name": "stdout",
     "output_type": "stream",
     "text": [
      "dictionary_comp = {0: 0, 1: 1, 2: 4, 3: 9, 4: 16, 5: 25, 6: 36, 7: 49, 8: 64, 9: 81}\n",
      "list_comp = [0, 1, 4, 9, 16, 25, 36, 49, 64, 81]\n",
      "set_comp = {0, 1, 2}\n",
      "generator_comp = <generator object <genexpr> at 0x000001E3EA3D8A50>\n"
     ]
    }
   ],
   "source": [
    "dictionary_comp = {i: i * i for i in range(10)}\n",
    "list_comp = [i * i for i in range(10)]\n",
    "set_comp = {i%3 for i in range(10)}\n",
    "generator_comp = (2 * i + 5 for i in range(10))\n",
    "print(f'{dictionary_comp = }')\n",
    "print(f'{list_comp = }')\n",
    "print(f'{set_comp = }')\n",
    "print(f'{generator_comp = }')"
   ]
  },
  {
   "cell_type": "markdown",
   "metadata": {},
   "source": [
    "### Dataclass"
   ]
  },
  {
   "cell_type": "code",
   "execution_count": 24,
   "metadata": {},
   "outputs": [
    {
     "name": "stdout",
     "output_type": "stream",
     "text": [
      "UliTest(id=1, tekst='hallo', liste=[1, 3, 5])\n",
      "hallo\n",
      "UliTest(id=17, tekst='DefaultText', liste=[])\n",
      "uli1<uli2=True\n"
     ]
    }
   ],
   "source": [
    "from dataclasses import dataclass, field\n",
    "# erzeugt für eine selbstdefinierte Klasse die ganzen internen Funktionen wie __init__, __repr__, ...\n",
    "\n",
    "@dataclass(order=True)  # durch order=True werden auch Methoden zum Sortieren wie __gt__ erzeugt.\n",
    "class UliTest:\n",
    "    id: int\n",
    "    tekst: str = \"DefaultText\"\n",
    "    liste: list[int] = field(default_factory=list)  # Bei \"liste: list[int] = []\" würde jede Instanz von UliTest die gleiche Liste [] enthalten!\n",
    "    foo: int = field(repr=False, compare= False, default=10)  # wird nicht bei __repr__ angezeigt, wird nicht bei Vergleichen berücksichtigt\n",
    "\n",
    "uli1 = UliTest(1, \"hallo\", [1, 3, 5])\n",
    "print(uli1)\n",
    "print(uli1.tekst)\n",
    "uli2 = UliTest(17)\n",
    "print(uli2)\n",
    "print(f'{uli1<uli2=}')"
   ]
  },
  {
   "cell_type": "markdown",
   "metadata": {},
   "source": [
    "### Bilder per Markdown-Zelle in Jupyter Lab einfügen"
   ]
  },
  {
   "cell_type": "markdown",
   "metadata": {},
   "source": [
    "<img src=\"Testbild.jpg\" width=12% align=right>\n",
    "<img src=\"Testbild.jpg\" width=8% align=left>"
   ]
  },
  {
   "cell_type": "markdown",
   "metadata": {},
   "source": [
    "### Farbiger Text"
   ]
  },
  {
   "cell_type": "code",
   "execution_count": 25,
   "metadata": {},
   "outputs": [
    {
     "name": "stdout",
     "output_type": "stream",
     "text": [
      "\u001b[30mHallo\u001b[0m Welt \u001b[31mHallo\u001b[0m Welt \u001b[32mHallo\u001b[0m Welt \u001b[33mHallo\u001b[0m Welt \u001b[34mHallo\u001b[0m Welt \u001b[35mHallo\u001b[0m Welt \u001b[36mHallo\u001b[0m Welt \u001b[31;1mHallo\u001b[0m Welt \u001b[32;1mHallo\u001b[0m Welt \u001b[33;1mHallo\u001b[0m Welt \u001b[34;1mHallo\u001b[0m Welt \u001b[35;1mHallo\u001b[0m Welt \u001b[36;1mHallo\u001b[0m Welt \u001b[37;1mHallo\u001b[0m Welt "
     ]
    }
   ],
   "source": [
    "Black, Red, Green, Yellow, Blue, Magenta, Cyan = \"\\u001b[30m\", \"\\u001b[31m\", \"\\u001b[32m\", \"\\u001b[33m\", \"\\u001b[34m\", \"\\u001b[35m\", \"\\u001b[36m\"\n",
    "BrightRed, BrightGreen, BrightYellow, BrightBlue, BrightMagenta, BrightCyan, BrightWhite = \"\\u001b[31;1m\", \"\\u001b[32;1m\", \"\\u001b[33;1m\", \"\\u001b[34;1m\", \"\\u001b[35;1m\", \"\\u001b[36;1m\", \"\\u001b[37;1m\"\n",
    "Reset = \"\\u001b[0m\"\n",
    "Farben = [Black, Red, Green, Yellow, Blue, Magenta, Cyan, BrightRed, BrightGreen, BrightYellow, BrightBlue, BrightMagenta, BrightCyan, BrightWhite]\n",
    "for farbe in Farben:\n",
    "    print(farbe + \"Hallo\" + Reset +\" Welt\", end=\" \")\n"
   ]
  },
  {
   "cell_type": "markdown",
   "metadata": {},
   "source": []
  },
  {
   "cell_type": "code",
   "execution_count": 3,
   "metadata": {},
   "outputs": [
    {
     "ename": "SyntaxError",
     "evalue": "invalid syntax (Temp/ipykernel_8176/2144691420.py, line 1)",
     "output_type": "error",
     "traceback": [
      "\u001b[1;36m  File \u001b[1;32m\"C:\\Users\\U\\AppData\\Local\\Temp/ipykernel_8176/2144691420.py\"\u001b[1;36m, line \u001b[1;32m1\u001b[0m\n\u001b[1;33m    HTML: <bold>fett</bold>\u001b[0m\n\u001b[1;37m          ^\u001b[0m\n\u001b[1;31mSyntaxError\u001b[0m\u001b[1;31m:\u001b[0m invalid syntax\n"
     ]
    }
   ],
   "source": [
    "HTML: <bold>fett</bold>"
   ]
  },
  {
   "cell_type": "code",
   "execution_count": null,
   "metadata": {},
   "outputs": [],
   "source": []
  }
 ],
 "metadata": {
  "kernelspec": {
   "display_name": "Python 3 (ipykernel)",
   "language": "python",
   "name": "python3"
  },
  "language_info": {
   "codemirror_mode": {
    "name": "ipython",
    "version": 3
   },
   "file_extension": ".py",
   "mimetype": "text/x-python",
   "name": "python",
   "nbconvert_exporter": "python",
   "pygments_lexer": "ipython3",
   "version": "3.10.0"
  }
 },
 "nbformat": 4,
 "nbformat_minor": 4
}
