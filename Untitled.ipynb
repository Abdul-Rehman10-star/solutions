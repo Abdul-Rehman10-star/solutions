{
 "cells": [
  {
   "cell_type": "code",
   "execution_count": 1,
   "id": "d5e31978-3db9-4b36-8905-64db8f27b3ed",
   "metadata": {},
   "outputs": [
    {
     "name": "stdout",
     "output_type": "stream",
     "text": [
      "hello world\n"
     ]
    },
    {
     "name": "stdin",
     "output_type": "stream",
     "text": [
      "click into the console window, then type something and press <return>:   fgnjhhhh\n"
     ]
    },
    {
     "name": "stdout",
     "output_type": "stream",
     "text": [
      "You typed: fgnjhhhh\n"
     ]
    }
   ],
   "source": [
    "\"\"\"\n",
    "læs https://www.freecodecamp.org/news/the-python-handbook/#pythonbasics\n",
    "og https://www.freecodecamp.org/news/the-python-handbook/#datatypesinpython\n",
    "\"\"\"\n",
    "\n",
    "\n",
    "def hello():\n",
    "    print(\"hello world\")\n",
    "\n",
    "\n",
    "def type_something():\n",
    "    user_input = input(\"click into the console window, then type something and press <return>:  \")\n",
    "    print(\"You typed: \" + user_input)\n",
    "\n",
    "\n",
    "def my_first_function():\n",
    "    pass\n",
    "\n",
    "\n",
    "hello()\n",
    "type_something()\n",
    "my_first_function()\n",
    "\n"
   ]
  },
  {
   "cell_type": "code",
   "execution_count": null,
   "id": "94886c1e-ca87-42f1-b59d-4ecf69e02eb9",
   "metadata": {},
   "outputs": [],
   "source": []
  }
 ],
 "metadata": {
  "kernelspec": {
   "display_name": "Python 3 (ipykernel)",
   "language": "python",
   "name": "python3"
  },
  "language_info": {
   "codemirror_mode": {
    "name": "ipython",
    "version": 3
   },
   "file_extension": ".py",
   "mimetype": "text/x-python",
   "name": "python",
   "nbconvert_exporter": "python",
   "pygments_lexer": "ipython3",
   "version": "3.10.8"
  }
 },
 "nbformat": 4,
 "nbformat_minor": 5
}
