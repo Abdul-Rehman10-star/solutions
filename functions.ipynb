{
 "cells": [
  {
   "cell_type": "code",
   "execution_count": 1,
   "id": "cdc2907b-5d68-4cfa-97b7-16f11c8a7b2f",
   "metadata": {},
   "outputs": [
    {
     "name": "stdout",
     "output_type": "stream",
     "text": [
      "hello world\n"
     ]
    },
    {
     "name": "stdin",
     "output_type": "stream",
     "text": [
      "click into the console window, then type something and press <return>:   xxxxxx\n"
     ]
    },
    {
     "name": "stdout",
     "output_type": "stream",
     "text": [
      "You typed: xxxxxx\n"
     ]
    }
   ],
   "source": [
    "\n",
    "def hello():\n",
    "    print(\"hello world\")\n",
    "\n",
    "\n",
    "def type_something():\n",
    "    user_input = input(\"click into the console window, then type something and press <return>:  \")\n",
    "    print(\"You typed: \" + user_input)\n",
    "\n",
    "\n",
    "def my_first_function():\n",
    "    pass\n",
    "\n",
    "\n",
    "hello()\n",
    "type_something()\n",
    "my_first_function()\n",
    "\n"
   ]
  },
  {
   "cell_type": "code",
   "execution_count": null,
   "id": "04260c08-ebb6-4198-b661-0c986205e235",
   "metadata": {},
   "outputs": [],
   "source": []
  }
 ],
 "metadata": {
  "kernelspec": {
   "display_name": "Python 3 (ipykernel)",
   "language": "python",
   "name": "python3"
  },
  "language_info": {
   "codemirror_mode": {
    "name": "ipython",
    "version": 3
   },
   "file_extension": ".py",
   "mimetype": "text/x-python",
   "name": "python",
   "nbconvert_exporter": "python",
   "pygments_lexer": "ipython3",
   "version": "3.10.8"
  }
 },
 "nbformat": 4,
 "nbformat_minor": 5
}
