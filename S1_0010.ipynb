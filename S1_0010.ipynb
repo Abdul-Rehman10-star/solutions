{
 "cells": [
  {
   "cell_type": "markdown",
   "id": "c0400477-8237-44fc-a6e4-711b35ac9729",
   "metadata": {},
   "source": [
    "Klik på den næste celle og tryk så Ctrl+Enter for at udføre koden i cellen."
   ]
  },
  {
   "cell_type": "code",
   "execution_count": 8,
   "id": "2e9843e0-cdc6-4a10-a1cc-81a07f91ea0c",
   "metadata": {},
   "outputs": [
    {
     "name": "stdout",
     "output_type": "stream",
     "text": [
      "hello world\n"
     ]
    }
   ],
   "source": [
    "print(\"hello world\")"
   ]
  },
  {
   "cell_type": "markdown",
   "id": "a7829e39-3751-493e-be90-cd58019aefa8",
   "metadata": {},
   "source": [
    "Klik på den næste celle og forandre teksten. Derefter udføre koden i cellen."
   ]
  },
  {
   "cell_type": "code",
   "execution_count": 9,
   "id": "80f685f3-f53d-4344-a33b-23f518704b90",
   "metadata": {},
   "outputs": [
    {
     "name": "stdout",
     "output_type": "stream",
     "text": [
      "hello  xworld\n"
     ]
    }
   ],
   "source": [
    "print(\"hello world\")"
   ]
  },
  {
   "cell_type": "code",
   "execution_count": 1,
   "id": "d5e31978-3db9-4b36-8905-64db8f27b3ed",
   "metadata": {},
   "outputs": [
    {
     "name": "stdout",
     "output_type": "stream",
     "text": [
      "hello world\n"
     ]
    },
    {
     "name": "stdin",
     "output_type": "stream",
     "text": [
      "click into the console window, then type something and press <return>:   gsbh\n"
     ]
    },
    {
     "name": "stdout",
     "output_type": "stream",
     "text": [
      "You typed: gsbh\n"
     ]
    }
   ],
   "source": [
    "\"\"\"\n",
    "læs https://www.freecodecamp.org/news/the-python-handbook/#pythonbasics\n",
    "og https://www.freecodecamp.org/news/the-python-handbook/#datatypesinpython\n",
    "\"\"\"\n",
    "\n",
    "\n",
    "def hello():\n",
    "    print(\"hello world\")\n",
    "\n",
    "\n",
    "def type_something():\n",
    "    user_input = input(\"click into the console window, then type something and press <return>:  \")\n",
    "    print(\"You typed: \" + user_input)\n",
    "\n",
    "\n",
    "def my_first_function():\n",
    "    pass\n",
    "\n",
    "\n",
    "hello()\n",
    "type_something()\n",
    "my_first_function()\n",
    "\n"
   ]
  },
  {
   "cell_type": "code",
   "execution_count": 6,
   "id": "84ae8800-9473-4306-b2f6-6cda44fe5df5",
   "metadata": {},
   "outputs": [],
   "source": [
    "u7 = 6.87\n",
    "øøø = \"test\"\n",
    "# 4forbudt = 3\n",
    "Dont_do_this = 2\n",
    "AbsolutelyDontDoThis = 5\n",
    "\n",
    "\n"
   ]
  },
  {
   "cell_type": "code",
   "execution_count": 3,
   "id": "94886c1e-ca87-42f1-b59d-4ecf69e02eb9",
   "metadata": {},
   "outputs": [
    {
     "data": {
      "text/plain": [
       "4"
      ]
     },
     "execution_count": 3,
     "metadata": {},
     "output_type": "execute_result"
    }
   ],
   "source": [
    "x=4\n",
    "x"
   ]
  }
 ],
 "metadata": {
  "kernelspec": {
   "display_name": "Python 3 (ipykernel)",
   "language": "python",
   "name": "python3"
  },
  "language_info": {
   "codemirror_mode": {
    "name": "ipython",
    "version": 3
   },
   "file_extension": ".py",
   "mimetype": "text/x-python",
   "name": "python",
   "nbconvert_exporter": "python",
   "pygments_lexer": "ipython3",
   "version": "3.10.7"
  }
 },
 "nbformat": 4,
 "nbformat_minor": 5
}
